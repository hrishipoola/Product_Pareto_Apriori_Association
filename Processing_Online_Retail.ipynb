{
  "nbformat": 4,
  "nbformat_minor": 0,
  "metadata": {
    "colab": {
      "name": "Processing Online Retail.ipynb",
      "provenance": [],
      "collapsed_sections": [],
      "authorship_tag": "ABX9TyNWrqMG2iejiLhaEe4fUseu",
      "include_colab_link": true
    },
    "kernelspec": {
      "name": "python3",
      "display_name": "Python 3"
    }
  },
  "cells": [
    {
      "cell_type": "markdown",
      "metadata": {
        "id": "view-in-github",
        "colab_type": "text"
      },
      "source": [
        "<a href=\"https://colab.research.google.com/github/hrishipoola/Product_Pareto_Apriori_Association/blob/main/Processing_Online_Retail.ipynb\" target=\"_parent\"><img src=\"https://colab.research.google.com/assets/colab-badge.svg\" alt=\"Open In Colab\"/></a>"
      ]
    },
    {
      "cell_type": "markdown",
      "metadata": {
        "id": "dl_rfus_m-YA"
      },
      "source": [
        "# Process Online Retail Data Set"
      ]
    },
    {
      "cell_type": "markdown",
      "metadata": {
        "id": "4SUviuHWqTAp"
      },
      "source": [
        "## Table of Contents\n",
        "1. Introduction\n",
        "2. Install & Import Packages\n",
        "3. Process Data\n",
        "<br> CustomerID\n",
        "<br> StockCode\n",
        "<br> Quantity\n",
        "<br> Price\n",
        "<br> Description\n",
        "<br> Country\n",
        "4. Add Features\n",
        "5. Save\n",
        "6. References"
      ]
    },
    {
      "cell_type": "markdown",
      "metadata": {
        "id": "UPbj0AZv44Jb"
      },
      "source": [
        "## 1. Introduction"
      ]
    },
    {
      "cell_type": "markdown",
      "metadata": {
        "id": "ogopwbHbNsII"
      },
      "source": [
        "Let's clean and process the [UCI Machine Learning Online Retail data set](https://archive.ics.uci.edu/ml/machine-learning-databases/00352/Online%20Retail.xlsx) so it's ready to use later for analysis and modeling (e.g., CLTV, market basket). I've mixed, matched, and amended the cleaning logic from [here](https://github.com/koshika15/Predict-sales-of-an-online-retail-store/blob/master/A.%20Data%20Aquisition%20%26%20Wrangling.ipynb) and [here](https://github.com/amir-hojjati/Data-Analysis-Online-Retail-Transactions/blob/master/Data-Preprocessing/Preprocessing-and-Cleaning.ipynb). \n",
        "\n",
        "The data set includes >500,000 transactions for a UK-based online retailer that specializes in gift items with a strong wholesaler customer base. Let's process it so it's clean and  Variable definitions:  \n",
        "\n",
        "**InvoiceNo**: 6-digit number unique to each transaction. Starting with C indicates cancellation\n",
        "<br>**StockCode**: 5-digit number unique to each product\n",
        "<br>**Description**: product name\n",
        "<br>**Quantity**: number of each item per transaction\n",
        "<br>**InvoiceDate**: date and time of transaction\n",
        "<br>**UnitPrice**: price per unit in British pounds\n",
        "<br>**CustomerID**: 5-digit number unique to each customer\n",
        "<br>**Country**: where customer lives \n",
        "\n",
        "We'll walk through the logic of addressing inconsistencies in each of the variables. We'll also create additional useful features. At the end we'll have a clean, workable transactions data set to use. "
      ]
    },
    {
      "cell_type": "markdown",
      "metadata": {
        "id": "-azq8vxp40jj"
      },
      "source": [
        "## 2. Install & Import Packages"
      ]
    },
    {
      "cell_type": "code",
      "metadata": {
        "colab": {
          "base_uri": "https://localhost:8080/"
        },
        "id": "NGkm-EwECsHy",
        "outputId": "6fa7d13d-e5e1-455c-c0d1-39352e9a86f6"
      },
      "source": [
        "import pandas as pd\n",
        "import numpy as np\n",
        "import datetime as dt\n",
        "from datetime import date, timedelta\n",
        "from datetime import date\n",
        "!pip install workalendar\n",
        "from workalendar.europe import UnitedKingdom\n",
        "cal = UnitedKingdom()\n",
        "\n",
        "import seaborn as sns\n",
        "import matplotlib.pyplot as plt\n",
        "from matplotlib import style\n",
        "sns.set_style(\"darkgrid\")\n",
        "style.use('fivethirtyeight')\n",
        "\n",
        "import io\n",
        "from io import BytesIO\n",
        "from zipfile import ZipFile"
      ],
      "execution_count": 131,
      "outputs": [
        {
          "output_type": "stream",
          "text": [
            "Requirement already satisfied: workalendar in /usr/local/lib/python3.7/dist-packages (15.1.0)\n",
            "Requirement already satisfied: skyfield in /usr/local/lib/python3.7/dist-packages (from workalendar) (1.37)\n",
            "Requirement already satisfied: pyCalverter in /usr/local/lib/python3.7/dist-packages (from workalendar) (1.6.1)\n",
            "Requirement already satisfied: setuptools>=1.0 in /usr/local/lib/python3.7/dist-packages (from workalendar) (54.0.0)\n",
            "Requirement already satisfied: lunardate in /usr/local/lib/python3.7/dist-packages (from workalendar) (0.2.0)\n",
            "Requirement already satisfied: pyluach in /usr/local/lib/python3.7/dist-packages (from workalendar) (1.2.1)\n",
            "Requirement already satisfied: python-dateutil in /usr/local/lib/python3.7/dist-packages (from workalendar) (2.8.1)\n",
            "Requirement already satisfied: skyfield-data in /usr/local/lib/python3.7/dist-packages (from workalendar) (3.0.0)\n",
            "Requirement already satisfied: backports.zoneinfo; python_version < \"3.9\" in /usr/local/lib/python3.7/dist-packages (from workalendar) (0.2.1)\n",
            "Requirement already satisfied: certifi>=2017.4.17 in /usr/local/lib/python3.7/dist-packages (from skyfield->workalendar) (2020.12.5)\n",
            "Requirement already satisfied: jplephem>=2.13 in /usr/local/lib/python3.7/dist-packages (from skyfield->workalendar) (2.15)\n",
            "Requirement already satisfied: numpy in /usr/local/lib/python3.7/dist-packages (from skyfield->workalendar) (1.19.5)\n",
            "Requirement already satisfied: sgp4>=2.2 in /usr/local/lib/python3.7/dist-packages (from skyfield->workalendar) (2.18)\n",
            "Requirement already satisfied: six>=1.5 in /usr/local/lib/python3.7/dist-packages (from python-dateutil->workalendar) (1.15.0)\n"
          ],
          "name": "stdout"
        }
      ]
    },
    {
      "cell_type": "markdown",
      "metadata": {
        "id": "id70qqfE476q"
      },
      "source": [
        "## 3. Process Data"
      ]
    },
    {
      "cell_type": "code",
      "metadata": {
        "colab": {
          "base_uri": "https://localhost:8080/",
          "height": 206
        },
        "id": "te0ElEK9DqeE",
        "outputId": "42220bee-b2bf-4af9-8dfd-3e5935553961"
      },
      "source": [
        "url='https://archive.ics.uci.edu/ml/machine-learning-databases/00352/Online%20Retail.xlsx'\n",
        "df = pd.read_excel(url,dtype= {'InvoiceNo': 'str','StockCode': 'str','CustomerID': 'str'}) # Treat identifiers as strings\n",
        "df.head()"
      ],
      "execution_count": 132,
      "outputs": [
        {
          "output_type": "execute_result",
          "data": {
            "text/html": [
              "<div>\n",
              "<style scoped>\n",
              "    .dataframe tbody tr th:only-of-type {\n",
              "        vertical-align: middle;\n",
              "    }\n",
              "\n",
              "    .dataframe tbody tr th {\n",
              "        vertical-align: top;\n",
              "    }\n",
              "\n",
              "    .dataframe thead th {\n",
              "        text-align: right;\n",
              "    }\n",
              "</style>\n",
              "<table border=\"1\" class=\"dataframe\">\n",
              "  <thead>\n",
              "    <tr style=\"text-align: right;\">\n",
              "      <th></th>\n",
              "      <th>InvoiceNo</th>\n",
              "      <th>StockCode</th>\n",
              "      <th>Description</th>\n",
              "      <th>Quantity</th>\n",
              "      <th>InvoiceDate</th>\n",
              "      <th>UnitPrice</th>\n",
              "      <th>CustomerID</th>\n",
              "      <th>Country</th>\n",
              "    </tr>\n",
              "  </thead>\n",
              "  <tbody>\n",
              "    <tr>\n",
              "      <th>0</th>\n",
              "      <td>536365</td>\n",
              "      <td>85123A</td>\n",
              "      <td>WHITE HANGING HEART T-LIGHT HOLDER</td>\n",
              "      <td>6</td>\n",
              "      <td>2010-12-01 08:26:00</td>\n",
              "      <td>2.55</td>\n",
              "      <td>17850</td>\n",
              "      <td>United Kingdom</td>\n",
              "    </tr>\n",
              "    <tr>\n",
              "      <th>1</th>\n",
              "      <td>536365</td>\n",
              "      <td>71053</td>\n",
              "      <td>WHITE METAL LANTERN</td>\n",
              "      <td>6</td>\n",
              "      <td>2010-12-01 08:26:00</td>\n",
              "      <td>3.39</td>\n",
              "      <td>17850</td>\n",
              "      <td>United Kingdom</td>\n",
              "    </tr>\n",
              "    <tr>\n",
              "      <th>2</th>\n",
              "      <td>536365</td>\n",
              "      <td>84406B</td>\n",
              "      <td>CREAM CUPID HEARTS COAT HANGER</td>\n",
              "      <td>8</td>\n",
              "      <td>2010-12-01 08:26:00</td>\n",
              "      <td>2.75</td>\n",
              "      <td>17850</td>\n",
              "      <td>United Kingdom</td>\n",
              "    </tr>\n",
              "    <tr>\n",
              "      <th>3</th>\n",
              "      <td>536365</td>\n",
              "      <td>84029G</td>\n",
              "      <td>KNITTED UNION FLAG HOT WATER BOTTLE</td>\n",
              "      <td>6</td>\n",
              "      <td>2010-12-01 08:26:00</td>\n",
              "      <td>3.39</td>\n",
              "      <td>17850</td>\n",
              "      <td>United Kingdom</td>\n",
              "    </tr>\n",
              "    <tr>\n",
              "      <th>4</th>\n",
              "      <td>536365</td>\n",
              "      <td>84029E</td>\n",
              "      <td>RED WOOLLY HOTTIE WHITE HEART.</td>\n",
              "      <td>6</td>\n",
              "      <td>2010-12-01 08:26:00</td>\n",
              "      <td>3.39</td>\n",
              "      <td>17850</td>\n",
              "      <td>United Kingdom</td>\n",
              "    </tr>\n",
              "  </tbody>\n",
              "</table>\n",
              "</div>"
            ],
            "text/plain": [
              "  InvoiceNo StockCode  ... CustomerID         Country\n",
              "0    536365    85123A  ...      17850  United Kingdom\n",
              "1    536365     71053  ...      17850  United Kingdom\n",
              "2    536365    84406B  ...      17850  United Kingdom\n",
              "3    536365    84029G  ...      17850  United Kingdom\n",
              "4    536365    84029E  ...      17850  United Kingdom\n",
              "\n",
              "[5 rows x 8 columns]"
            ]
          },
          "metadata": {
            "tags": []
          },
          "execution_count": 132
        }
      ]
    },
    {
      "cell_type": "code",
      "metadata": {
        "colab": {
          "base_uri": "https://localhost:8080/",
          "height": 206
        },
        "id": "UlDxwQnaFRfm",
        "outputId": "2bdfc0d8-ad3d-4170-e5b1-575bdd0d22da"
      },
      "source": [
        "# Format dates and strings\n",
        "df['InvoiceDate'] = pd.to_datetime(df['InvoiceDate'], format = '%m/%d/%Y %H:%M')\n",
        "df['Description'] = df['Description'].str.replace('.','').str.upper().str.strip() # periods, extra white spaces\n",
        "df['InvoiceNo'] = df['InvoiceNo'].str.upper()\n",
        "df['StockCode'] = df['StockCode'].str.upper()\n",
        "df['Country'] = df['Country'].str.upper()\n",
        "df.head()"
      ],
      "execution_count": 133,
      "outputs": [
        {
          "output_type": "execute_result",
          "data": {
            "text/html": [
              "<div>\n",
              "<style scoped>\n",
              "    .dataframe tbody tr th:only-of-type {\n",
              "        vertical-align: middle;\n",
              "    }\n",
              "\n",
              "    .dataframe tbody tr th {\n",
              "        vertical-align: top;\n",
              "    }\n",
              "\n",
              "    .dataframe thead th {\n",
              "        text-align: right;\n",
              "    }\n",
              "</style>\n",
              "<table border=\"1\" class=\"dataframe\">\n",
              "  <thead>\n",
              "    <tr style=\"text-align: right;\">\n",
              "      <th></th>\n",
              "      <th>InvoiceNo</th>\n",
              "      <th>StockCode</th>\n",
              "      <th>Description</th>\n",
              "      <th>Quantity</th>\n",
              "      <th>InvoiceDate</th>\n",
              "      <th>UnitPrice</th>\n",
              "      <th>CustomerID</th>\n",
              "      <th>Country</th>\n",
              "    </tr>\n",
              "  </thead>\n",
              "  <tbody>\n",
              "    <tr>\n",
              "      <th>0</th>\n",
              "      <td>536365</td>\n",
              "      <td>85123A</td>\n",
              "      <td>WHITE HANGING HEART T-LIGHT HOLDER</td>\n",
              "      <td>6</td>\n",
              "      <td>2010-12-01 08:26:00</td>\n",
              "      <td>2.55</td>\n",
              "      <td>17850</td>\n",
              "      <td>UNITED KINGDOM</td>\n",
              "    </tr>\n",
              "    <tr>\n",
              "      <th>1</th>\n",
              "      <td>536365</td>\n",
              "      <td>71053</td>\n",
              "      <td>WHITE METAL LANTERN</td>\n",
              "      <td>6</td>\n",
              "      <td>2010-12-01 08:26:00</td>\n",
              "      <td>3.39</td>\n",
              "      <td>17850</td>\n",
              "      <td>UNITED KINGDOM</td>\n",
              "    </tr>\n",
              "    <tr>\n",
              "      <th>2</th>\n",
              "      <td>536365</td>\n",
              "      <td>84406B</td>\n",
              "      <td>CREAM CUPID HEARTS COAT HANGER</td>\n",
              "      <td>8</td>\n",
              "      <td>2010-12-01 08:26:00</td>\n",
              "      <td>2.75</td>\n",
              "      <td>17850</td>\n",
              "      <td>UNITED KINGDOM</td>\n",
              "    </tr>\n",
              "    <tr>\n",
              "      <th>3</th>\n",
              "      <td>536365</td>\n",
              "      <td>84029G</td>\n",
              "      <td>KNITTED UNION FLAG HOT WATER BOTTLE</td>\n",
              "      <td>6</td>\n",
              "      <td>2010-12-01 08:26:00</td>\n",
              "      <td>3.39</td>\n",
              "      <td>17850</td>\n",
              "      <td>UNITED KINGDOM</td>\n",
              "    </tr>\n",
              "    <tr>\n",
              "      <th>4</th>\n",
              "      <td>536365</td>\n",
              "      <td>84029E</td>\n",
              "      <td>RED WOOLLY HOTTIE WHITE HEART</td>\n",
              "      <td>6</td>\n",
              "      <td>2010-12-01 08:26:00</td>\n",
              "      <td>3.39</td>\n",
              "      <td>17850</td>\n",
              "      <td>UNITED KINGDOM</td>\n",
              "    </tr>\n",
              "  </tbody>\n",
              "</table>\n",
              "</div>"
            ],
            "text/plain": [
              "  InvoiceNo StockCode  ... CustomerID         Country\n",
              "0    536365    85123A  ...      17850  UNITED KINGDOM\n",
              "1    536365     71053  ...      17850  UNITED KINGDOM\n",
              "2    536365    84406B  ...      17850  UNITED KINGDOM\n",
              "3    536365    84029G  ...      17850  UNITED KINGDOM\n",
              "4    536365    84029E  ...      17850  UNITED KINGDOM\n",
              "\n",
              "[5 rows x 8 columns]"
            ]
          },
          "metadata": {
            "tags": []
          },
          "execution_count": 133
        }
      ]
    },
    {
      "cell_type": "code",
      "metadata": {
        "colab": {
          "base_uri": "https://localhost:8080/"
        },
        "id": "o-xNxVHUHxkV",
        "outputId": "9f8ab555-bd86-43f3-bea0-43ead5a8a351"
      },
      "source": [
        "df.info()"
      ],
      "execution_count": 134,
      "outputs": [
        {
          "output_type": "stream",
          "text": [
            "<class 'pandas.core.frame.DataFrame'>\n",
            "RangeIndex: 541909 entries, 0 to 541908\n",
            "Data columns (total 8 columns):\n",
            " #   Column       Non-Null Count   Dtype         \n",
            "---  ------       --------------   -----         \n",
            " 0   InvoiceNo    541909 non-null  object        \n",
            " 1   StockCode    541909 non-null  object        \n",
            " 2   Description  540454 non-null  object        \n",
            " 3   Quantity     541909 non-null  int64         \n",
            " 4   InvoiceDate  541909 non-null  datetime64[ns]\n",
            " 5   UnitPrice    541909 non-null  float64       \n",
            " 6   CustomerID   406829 non-null  object        \n",
            " 7   Country      541909 non-null  object        \n",
            "dtypes: datetime64[ns](1), float64(1), int64(1), object(5)\n",
            "memory usage: 33.1+ MB\n"
          ],
          "name": "stdout"
        }
      ]
    },
    {
      "cell_type": "markdown",
      "metadata": {
        "id": "QI71pyhwf8ck"
      },
      "source": [
        "## CustomerID"
      ]
    },
    {
      "cell_type": "markdown",
      "metadata": {
        "id": "foCUjrA2yaW8"
      },
      "source": [
        "CustomerID and Description have null values. We could derive missing CustomerIDs from InvoiceNo if CustomerIDs have multiple InvoiceNo values. Let's check the one-to-many mapping. "
      ]
    },
    {
      "cell_type": "code",
      "metadata": {
        "id": "YFKawKUrx1Gi"
      },
      "source": [
        "# Check one-to-many mapping of columns to check for data correctness\n",
        "def one_to_many(df, column_1, column_2):\n",
        "    # Returns True if each item in column_1 is unique to each item in column_2 (first=1), but each item in column_2 may have >1 item in column_1 \n",
        "    # Returns False if each item in column_1 isn't unique to each item in column_2 (first>1) and each item in column_2 has exactly 1 item in column_1 \n",
        "  \n",
        "    first = df.drop_duplicates([column_1, column_2]).groupby(column_1)[column_2].count().max()\n",
        "    print(first == 1)"
      ],
      "execution_count": 135,
      "outputs": []
    },
    {
      "cell_type": "code",
      "metadata": {
        "colab": {
          "base_uri": "https://localhost:8080/"
        },
        "id": "Z7sMyeXA1kGm",
        "outputId": "1228054a-8ca5-49a1-eed7-ad6e87660dd1"
      },
      "source": [
        "# Check if each InvoiceNo is unique to a CustomerID\n",
        "one_to_many(df, 'InvoiceNo', 'CustomerID')"
      ],
      "execution_count": 136,
      "outputs": [
        {
          "output_type": "stream",
          "text": [
            "True\n"
          ],
          "name": "stdout"
        }
      ]
    },
    {
      "cell_type": "code",
      "metadata": {
        "colab": {
          "base_uri": "https://localhost:8080/"
        },
        "id": "fd8r78u3YHVQ",
        "outputId": "8b490aac-6abb-4145-ed9e-60e6cd98a129"
      },
      "source": [
        "# Check if each CustomerID is unique to an InvoiceNo\n",
        "one_to_many(df, 'CustomerID', 'InvoiceNo')"
      ],
      "execution_count": 137,
      "outputs": [
        {
          "output_type": "stream",
          "text": [
            "False\n"
          ],
          "name": "stdout"
        }
      ]
    },
    {
      "cell_type": "markdown",
      "metadata": {
        "id": "lH_C7_cy2t1E"
      },
      "source": [
        "Each InvoiceNo has a unique CustomerID, but each CustomerID can have many InvoiceNo values so we can't generate missing CustomerIDs. Let's drop transactions with missing CustomerID. \n"
      ]
    },
    {
      "cell_type": "code",
      "metadata": {
        "id": "oO4u_s9-3ukA"
      },
      "source": [
        "df = df[df.CustomerID.notnull()] # drop null Customer ID transactions "
      ],
      "execution_count": 138,
      "outputs": []
    },
    {
      "cell_type": "markdown",
      "metadata": {
        "id": "WSW8i0Stbfmg"
      },
      "source": [
        "## Stock Code"
      ]
    },
    {
      "cell_type": "markdown",
      "metadata": {
        "id": "kpPVNIUk1l3A"
      },
      "source": [
        "\n",
        "Each StockCode should have only 1 unique description,  but each description may have multiple StockCode values. But, the one_to_many function returns false, meaning some StockCode values have multiple Descriptions."
      ]
    },
    {
      "cell_type": "code",
      "metadata": {
        "colab": {
          "base_uri": "https://localhost:8080/"
        },
        "id": "FC4I7J26ZxIA",
        "outputId": "d75884f6-2891-4b13-d358-45712fa2e8ac"
      },
      "source": [
        "one_to_many(df,'StockCode','Description')"
      ],
      "execution_count": 139,
      "outputs": [
        {
          "output_type": "stream",
          "text": [
            "False\n"
          ],
          "name": "stdout"
        }
      ]
    },
    {
      "cell_type": "code",
      "metadata": {
        "colab": {
          "base_uri": "https://localhost:8080/",
          "height": 363
        },
        "id": "sBNaLkdWcLoy",
        "outputId": "faa754c1-2811-4f0e-e441-a7ed506f321d"
      },
      "source": [
        "products = df.groupby(['StockCode','Description'],as_index=False).count()\n",
        "products = products.loc[:,['StockCode','Description']]\n",
        "stock_count = products['StockCode'].value_counts().to_frame()\n",
        "stock_list = list(stock_count[stock_count.StockCode > 1].index) # List indexes that has stockCode with >1 description\n",
        "products[products['StockCode'].isin(stock_list)].head(10) # filter products that have stockCode with >1 description"
      ],
      "execution_count": 140,
      "outputs": [
        {
          "output_type": "execute_result",
          "data": {
            "text/html": [
              "<div>\n",
              "<style scoped>\n",
              "    .dataframe tbody tr th:only-of-type {\n",
              "        vertical-align: middle;\n",
              "    }\n",
              "\n",
              "    .dataframe tbody tr th {\n",
              "        vertical-align: top;\n",
              "    }\n",
              "\n",
              "    .dataframe thead th {\n",
              "        text-align: right;\n",
              "    }\n",
              "</style>\n",
              "<table border=\"1\" class=\"dataframe\">\n",
              "  <thead>\n",
              "    <tr style=\"text-align: right;\">\n",
              "      <th></th>\n",
              "      <th>StockCode</th>\n",
              "      <th>Description</th>\n",
              "    </tr>\n",
              "  </thead>\n",
              "  <tbody>\n",
              "    <tr>\n",
              "      <th>42</th>\n",
              "      <td>16156L</td>\n",
              "      <td>WRAP CAROUSEL</td>\n",
              "    </tr>\n",
              "    <tr>\n",
              "      <th>43</th>\n",
              "      <td>16156L</td>\n",
              "      <td>WRAP, CAROUSEL</td>\n",
              "    </tr>\n",
              "    <tr>\n",
              "      <th>101</th>\n",
              "      <td>17107D</td>\n",
              "      <td>FLOWER FAIRY 5 DRAWER LINERS</td>\n",
              "    </tr>\n",
              "    <tr>\n",
              "      <th>102</th>\n",
              "      <td>17107D</td>\n",
              "      <td>FLOWER FAIRY 5 SUMMER DRAW LINERS</td>\n",
              "    </tr>\n",
              "    <tr>\n",
              "      <th>103</th>\n",
              "      <td>17107D</td>\n",
              "      <td>FLOWER FAIRY,5 SUMMER B'DRAW LINERS</td>\n",
              "    </tr>\n",
              "    <tr>\n",
              "      <th>121</th>\n",
              "      <td>20622</td>\n",
              "      <td>VIP PASSPORT COVER</td>\n",
              "    </tr>\n",
              "    <tr>\n",
              "      <th>122</th>\n",
              "      <td>20622</td>\n",
              "      <td>VIPPASSPORT COVER</td>\n",
              "    </tr>\n",
              "    <tr>\n",
              "      <th>174</th>\n",
              "      <td>20725</td>\n",
              "      <td>LUNCH BAG RED RETROSPOT</td>\n",
              "    </tr>\n",
              "    <tr>\n",
              "      <th>175</th>\n",
              "      <td>20725</td>\n",
              "      <td>LUNCH BAG RED SPOTTY</td>\n",
              "    </tr>\n",
              "    <tr>\n",
              "      <th>267</th>\n",
              "      <td>20914</td>\n",
              "      <td>SET/5 RED RETROSPOT LID GLASS BOWLS</td>\n",
              "    </tr>\n",
              "  </tbody>\n",
              "</table>\n",
              "</div>"
            ],
            "text/plain": [
              "    StockCode                          Description\n",
              "42     16156L                        WRAP CAROUSEL\n",
              "43     16156L                       WRAP, CAROUSEL\n",
              "101    17107D         FLOWER FAIRY 5 DRAWER LINERS\n",
              "102    17107D    FLOWER FAIRY 5 SUMMER DRAW LINERS\n",
              "103    17107D  FLOWER FAIRY,5 SUMMER B'DRAW LINERS\n",
              "121     20622                   VIP PASSPORT COVER\n",
              "122     20622                    VIPPASSPORT COVER\n",
              "174     20725              LUNCH BAG RED RETROSPOT\n",
              "175     20725                 LUNCH BAG RED SPOTTY\n",
              "267     20914  SET/5 RED RETROSPOT LID GLASS BOWLS"
            ]
          },
          "metadata": {
            "tags": []
          },
          "execution_count": 140
        }
      ]
    },
    {
      "cell_type": "markdown",
      "metadata": {
        "id": "gxxAxIsuejj1"
      },
      "source": [
        "Taking a closer look at the descriptions, it actually does look like each stock code is uniquely tied to an item, but the descriptions can vary slightly due to data entry inconsistency. Let's drop duplicates. "
      ]
    },
    {
      "cell_type": "code",
      "metadata": {
        "id": "i_cx1OzNbc8y"
      },
      "source": [
        "# Remove duplicate entries\n",
        "products.drop_duplicates('StockCode', keep='first', inplace=True)"
      ],
      "execution_count": 141,
      "outputs": []
    },
    {
      "cell_type": "code",
      "metadata": {
        "colab": {
          "base_uri": "https://localhost:8080/",
          "height": 206
        },
        "id": "2ERa3V9ffBQD",
        "outputId": "85eef0ef-c3de-41d1-bb70-361e254ba2bb"
      },
      "source": [
        "# Correct the mapping of StockCode and Description\n",
        "df = pd.merge(df, products, on='StockCode', how='left', validate='many_to_one')\n",
        "df.drop('Description_x',axis=1,inplace=True)\n",
        "df.rename(columns={'Description_y':'Description'},inplace=True)\n",
        "df.head()"
      ],
      "execution_count": 142,
      "outputs": [
        {
          "output_type": "execute_result",
          "data": {
            "text/html": [
              "<div>\n",
              "<style scoped>\n",
              "    .dataframe tbody tr th:only-of-type {\n",
              "        vertical-align: middle;\n",
              "    }\n",
              "\n",
              "    .dataframe tbody tr th {\n",
              "        vertical-align: top;\n",
              "    }\n",
              "\n",
              "    .dataframe thead th {\n",
              "        text-align: right;\n",
              "    }\n",
              "</style>\n",
              "<table border=\"1\" class=\"dataframe\">\n",
              "  <thead>\n",
              "    <tr style=\"text-align: right;\">\n",
              "      <th></th>\n",
              "      <th>InvoiceNo</th>\n",
              "      <th>StockCode</th>\n",
              "      <th>Quantity</th>\n",
              "      <th>InvoiceDate</th>\n",
              "      <th>UnitPrice</th>\n",
              "      <th>CustomerID</th>\n",
              "      <th>Country</th>\n",
              "      <th>Description</th>\n",
              "    </tr>\n",
              "  </thead>\n",
              "  <tbody>\n",
              "    <tr>\n",
              "      <th>0</th>\n",
              "      <td>536365</td>\n",
              "      <td>85123A</td>\n",
              "      <td>6</td>\n",
              "      <td>2010-12-01 08:26:00</td>\n",
              "      <td>2.55</td>\n",
              "      <td>17850</td>\n",
              "      <td>UNITED KINGDOM</td>\n",
              "      <td>CREAM HANGING HEART T-LIGHT HOLDER</td>\n",
              "    </tr>\n",
              "    <tr>\n",
              "      <th>1</th>\n",
              "      <td>536365</td>\n",
              "      <td>71053</td>\n",
              "      <td>6</td>\n",
              "      <td>2010-12-01 08:26:00</td>\n",
              "      <td>3.39</td>\n",
              "      <td>17850</td>\n",
              "      <td>UNITED KINGDOM</td>\n",
              "      <td>WHITE METAL LANTERN</td>\n",
              "    </tr>\n",
              "    <tr>\n",
              "      <th>2</th>\n",
              "      <td>536365</td>\n",
              "      <td>84406B</td>\n",
              "      <td>8</td>\n",
              "      <td>2010-12-01 08:26:00</td>\n",
              "      <td>2.75</td>\n",
              "      <td>17850</td>\n",
              "      <td>UNITED KINGDOM</td>\n",
              "      <td>CREAM CUPID HEARTS COAT HANGER</td>\n",
              "    </tr>\n",
              "    <tr>\n",
              "      <th>3</th>\n",
              "      <td>536365</td>\n",
              "      <td>84029G</td>\n",
              "      <td>6</td>\n",
              "      <td>2010-12-01 08:26:00</td>\n",
              "      <td>3.39</td>\n",
              "      <td>17850</td>\n",
              "      <td>UNITED KINGDOM</td>\n",
              "      <td>KNITTED UNION FLAG HOT WATER BOTTLE</td>\n",
              "    </tr>\n",
              "    <tr>\n",
              "      <th>4</th>\n",
              "      <td>536365</td>\n",
              "      <td>84029E</td>\n",
              "      <td>6</td>\n",
              "      <td>2010-12-01 08:26:00</td>\n",
              "      <td>3.39</td>\n",
              "      <td>17850</td>\n",
              "      <td>UNITED KINGDOM</td>\n",
              "      <td>RED WOOLLY HOTTIE WHITE HEART</td>\n",
              "    </tr>\n",
              "  </tbody>\n",
              "</table>\n",
              "</div>"
            ],
            "text/plain": [
              "  InvoiceNo StockCode  ...         Country                          Description\n",
              "0    536365    85123A  ...  UNITED KINGDOM   CREAM HANGING HEART T-LIGHT HOLDER\n",
              "1    536365     71053  ...  UNITED KINGDOM                  WHITE METAL LANTERN\n",
              "2    536365    84406B  ...  UNITED KINGDOM       CREAM CUPID HEARTS COAT HANGER\n",
              "3    536365    84029G  ...  UNITED KINGDOM  KNITTED UNION FLAG HOT WATER BOTTLE\n",
              "4    536365    84029E  ...  UNITED KINGDOM        RED WOOLLY HOTTIE WHITE HEART\n",
              "\n",
              "[5 rows x 8 columns]"
            ]
          },
          "metadata": {
            "tags": []
          },
          "execution_count": 142
        }
      ]
    },
    {
      "cell_type": "code",
      "metadata": {
        "colab": {
          "base_uri": "https://localhost:8080/"
        },
        "id": "rD8v2SclfmmH",
        "outputId": "14d2bfdf-f717-4e75-909c-d23df608c127"
      },
      "source": [
        "# Confirm that now each StockCode is unique to each description\n",
        "one_to_many(df,'StockCode','Description')"
      ],
      "execution_count": 143,
      "outputs": [
        {
          "output_type": "stream",
          "text": [
            "True\n"
          ],
          "name": "stdout"
        }
      ]
    },
    {
      "cell_type": "markdown",
      "metadata": {
        "id": "QAC43WJftpAP"
      },
      "source": [
        "Some StockCodes are below 5 digits. Looking at them below, they seem to be incidental charges like  postage, debt adjustments, samples, etc. and not retail sales, so let's remove them. "
      ]
    },
    {
      "cell_type": "code",
      "metadata": {
        "colab": {
          "base_uri": "https://localhost:8080/",
          "height": 363
        },
        "id": "rxKR6_ZMtjXa",
        "outputId": "0d546468-b5fc-4bb4-c744-71e67722eba4"
      },
      "source": [
        "df[(df.StockCode.str.len())<5].head(10)"
      ],
      "execution_count": 144,
      "outputs": [
        {
          "output_type": "execute_result",
          "data": {
            "text/html": [
              "<div>\n",
              "<style scoped>\n",
              "    .dataframe tbody tr th:only-of-type {\n",
              "        vertical-align: middle;\n",
              "    }\n",
              "\n",
              "    .dataframe tbody tr th {\n",
              "        vertical-align: top;\n",
              "    }\n",
              "\n",
              "    .dataframe thead th {\n",
              "        text-align: right;\n",
              "    }\n",
              "</style>\n",
              "<table border=\"1\" class=\"dataframe\">\n",
              "  <thead>\n",
              "    <tr style=\"text-align: right;\">\n",
              "      <th></th>\n",
              "      <th>InvoiceNo</th>\n",
              "      <th>StockCode</th>\n",
              "      <th>Quantity</th>\n",
              "      <th>InvoiceDate</th>\n",
              "      <th>UnitPrice</th>\n",
              "      <th>CustomerID</th>\n",
              "      <th>Country</th>\n",
              "      <th>Description</th>\n",
              "    </tr>\n",
              "  </thead>\n",
              "  <tbody>\n",
              "    <tr>\n",
              "      <th>45</th>\n",
              "      <td>536370</td>\n",
              "      <td>POST</td>\n",
              "      <td>3</td>\n",
              "      <td>2010-12-01 08:45:00</td>\n",
              "      <td>18.00</td>\n",
              "      <td>12583</td>\n",
              "      <td>FRANCE</td>\n",
              "      <td>POSTAGE</td>\n",
              "    </tr>\n",
              "    <tr>\n",
              "      <th>141</th>\n",
              "      <td>C536379</td>\n",
              "      <td>D</td>\n",
              "      <td>-1</td>\n",
              "      <td>2010-12-01 09:41:00</td>\n",
              "      <td>27.50</td>\n",
              "      <td>14527</td>\n",
              "      <td>UNITED KINGDOM</td>\n",
              "      <td>DISCOUNT</td>\n",
              "    </tr>\n",
              "    <tr>\n",
              "      <th>386</th>\n",
              "      <td>536403</td>\n",
              "      <td>POST</td>\n",
              "      <td>1</td>\n",
              "      <td>2010-12-01 11:27:00</td>\n",
              "      <td>15.00</td>\n",
              "      <td>12791</td>\n",
              "      <td>NETHERLANDS</td>\n",
              "      <td>POSTAGE</td>\n",
              "    </tr>\n",
              "    <tr>\n",
              "      <th>1122</th>\n",
              "      <td>536527</td>\n",
              "      <td>POST</td>\n",
              "      <td>1</td>\n",
              "      <td>2010-12-01 13:04:00</td>\n",
              "      <td>18.00</td>\n",
              "      <td>12662</td>\n",
              "      <td>GERMANY</td>\n",
              "      <td>POSTAGE</td>\n",
              "    </tr>\n",
              "    <tr>\n",
              "      <th>1422</th>\n",
              "      <td>536540</td>\n",
              "      <td>C2</td>\n",
              "      <td>1</td>\n",
              "      <td>2010-12-01 14:05:00</td>\n",
              "      <td>50.00</td>\n",
              "      <td>14911</td>\n",
              "      <td>EIRE</td>\n",
              "      <td>CARRIAGE</td>\n",
              "    </tr>\n",
              "    <tr>\n",
              "      <th>1698</th>\n",
              "      <td>536569</td>\n",
              "      <td>M</td>\n",
              "      <td>1</td>\n",
              "      <td>2010-12-01 15:35:00</td>\n",
              "      <td>1.25</td>\n",
              "      <td>16274</td>\n",
              "      <td>UNITED KINGDOM</td>\n",
              "      <td>MANUAL</td>\n",
              "    </tr>\n",
              "    <tr>\n",
              "      <th>1709</th>\n",
              "      <td>536569</td>\n",
              "      <td>M</td>\n",
              "      <td>1</td>\n",
              "      <td>2010-12-01 15:35:00</td>\n",
              "      <td>18.95</td>\n",
              "      <td>16274</td>\n",
              "      <td>UNITED KINGDOM</td>\n",
              "      <td>MANUAL</td>\n",
              "    </tr>\n",
              "    <tr>\n",
              "      <th>3868</th>\n",
              "      <td>536840</td>\n",
              "      <td>POST</td>\n",
              "      <td>1</td>\n",
              "      <td>2010-12-02 18:27:00</td>\n",
              "      <td>18.00</td>\n",
              "      <td>12738</td>\n",
              "      <td>GERMANY</td>\n",
              "      <td>POSTAGE</td>\n",
              "    </tr>\n",
              "    <tr>\n",
              "      <th>4053</th>\n",
              "      <td>536852</td>\n",
              "      <td>POST</td>\n",
              "      <td>1</td>\n",
              "      <td>2010-12-03 09:51:00</td>\n",
              "      <td>18.00</td>\n",
              "      <td>12686</td>\n",
              "      <td>FRANCE</td>\n",
              "      <td>POSTAGE</td>\n",
              "    </tr>\n",
              "    <tr>\n",
              "      <th>4120</th>\n",
              "      <td>536858</td>\n",
              "      <td>POST</td>\n",
              "      <td>2</td>\n",
              "      <td>2010-12-03 10:36:00</td>\n",
              "      <td>40.00</td>\n",
              "      <td>13520</td>\n",
              "      <td>SWITZERLAND</td>\n",
              "      <td>POSTAGE</td>\n",
              "    </tr>\n",
              "  </tbody>\n",
              "</table>\n",
              "</div>"
            ],
            "text/plain": [
              "     InvoiceNo StockCode  Quantity  ... CustomerID         Country Description\n",
              "45      536370      POST         3  ...      12583          FRANCE     POSTAGE\n",
              "141    C536379         D        -1  ...      14527  UNITED KINGDOM    DISCOUNT\n",
              "386     536403      POST         1  ...      12791     NETHERLANDS     POSTAGE\n",
              "1122    536527      POST         1  ...      12662         GERMANY     POSTAGE\n",
              "1422    536540        C2         1  ...      14911            EIRE    CARRIAGE\n",
              "1698    536569         M         1  ...      16274  UNITED KINGDOM      MANUAL\n",
              "1709    536569         M         1  ...      16274  UNITED KINGDOM      MANUAL\n",
              "3868    536840      POST         1  ...      12738         GERMANY     POSTAGE\n",
              "4053    536852      POST         1  ...      12686          FRANCE     POSTAGE\n",
              "4120    536858      POST         2  ...      13520     SWITZERLAND     POSTAGE\n",
              "\n",
              "[10 rows x 8 columns]"
            ]
          },
          "metadata": {
            "tags": []
          },
          "execution_count": 144
        }
      ]
    },
    {
      "cell_type": "code",
      "metadata": {
        "id": "9WzdcM_ruXEv"
      },
      "source": [
        "df = df[(df.StockCode.str.len())>=5].reset_index(drop=True) # Drop stock codes less than 5 digits "
      ],
      "execution_count": 145,
      "outputs": []
    },
    {
      "cell_type": "markdown",
      "metadata": {
        "id": "rCO-ph_zvZti"
      },
      "source": [
        "Some stock codes are more than 5 digits that seem to be valid, for example, an extra letter distinguishes product variations. Let's keep them.  "
      ]
    },
    {
      "cell_type": "code",
      "metadata": {
        "colab": {
          "base_uri": "https://localhost:8080/",
          "height": 363
        },
        "id": "_UlX2NFlrzop",
        "outputId": "60e1df48-c9be-41fd-c6bc-748eb225a83e"
      },
      "source": [
        "df[(df.StockCode.str.len())>5].head(10)"
      ],
      "execution_count": 146,
      "outputs": [
        {
          "output_type": "execute_result",
          "data": {
            "text/html": [
              "<div>\n",
              "<style scoped>\n",
              "    .dataframe tbody tr th:only-of-type {\n",
              "        vertical-align: middle;\n",
              "    }\n",
              "\n",
              "    .dataframe tbody tr th {\n",
              "        vertical-align: top;\n",
              "    }\n",
              "\n",
              "    .dataframe thead th {\n",
              "        text-align: right;\n",
              "    }\n",
              "</style>\n",
              "<table border=\"1\" class=\"dataframe\">\n",
              "  <thead>\n",
              "    <tr style=\"text-align: right;\">\n",
              "      <th></th>\n",
              "      <th>InvoiceNo</th>\n",
              "      <th>StockCode</th>\n",
              "      <th>Quantity</th>\n",
              "      <th>InvoiceDate</th>\n",
              "      <th>UnitPrice</th>\n",
              "      <th>CustomerID</th>\n",
              "      <th>Country</th>\n",
              "      <th>Description</th>\n",
              "    </tr>\n",
              "  </thead>\n",
              "  <tbody>\n",
              "    <tr>\n",
              "      <th>0</th>\n",
              "      <td>536365</td>\n",
              "      <td>85123A</td>\n",
              "      <td>6</td>\n",
              "      <td>2010-12-01 08:26:00</td>\n",
              "      <td>2.55</td>\n",
              "      <td>17850</td>\n",
              "      <td>UNITED KINGDOM</td>\n",
              "      <td>CREAM HANGING HEART T-LIGHT HOLDER</td>\n",
              "    </tr>\n",
              "    <tr>\n",
              "      <th>2</th>\n",
              "      <td>536365</td>\n",
              "      <td>84406B</td>\n",
              "      <td>8</td>\n",
              "      <td>2010-12-01 08:26:00</td>\n",
              "      <td>2.75</td>\n",
              "      <td>17850</td>\n",
              "      <td>UNITED KINGDOM</td>\n",
              "      <td>CREAM CUPID HEARTS COAT HANGER</td>\n",
              "    </tr>\n",
              "    <tr>\n",
              "      <th>3</th>\n",
              "      <td>536365</td>\n",
              "      <td>84029G</td>\n",
              "      <td>6</td>\n",
              "      <td>2010-12-01 08:26:00</td>\n",
              "      <td>3.39</td>\n",
              "      <td>17850</td>\n",
              "      <td>UNITED KINGDOM</td>\n",
              "      <td>KNITTED UNION FLAG HOT WATER BOTTLE</td>\n",
              "    </tr>\n",
              "    <tr>\n",
              "      <th>4</th>\n",
              "      <td>536365</td>\n",
              "      <td>84029E</td>\n",
              "      <td>6</td>\n",
              "      <td>2010-12-01 08:26:00</td>\n",
              "      <td>3.39</td>\n",
              "      <td>17850</td>\n",
              "      <td>UNITED KINGDOM</td>\n",
              "      <td>RED WOOLLY HOTTIE WHITE HEART</td>\n",
              "    </tr>\n",
              "    <tr>\n",
              "      <th>48</th>\n",
              "      <td>536373</td>\n",
              "      <td>85123A</td>\n",
              "      <td>6</td>\n",
              "      <td>2010-12-01 09:02:00</td>\n",
              "      <td>2.55</td>\n",
              "      <td>17850</td>\n",
              "      <td>UNITED KINGDOM</td>\n",
              "      <td>CREAM HANGING HEART T-LIGHT HOLDER</td>\n",
              "    </tr>\n",
              "    <tr>\n",
              "      <th>50</th>\n",
              "      <td>536373</td>\n",
              "      <td>84406B</td>\n",
              "      <td>8</td>\n",
              "      <td>2010-12-01 09:02:00</td>\n",
              "      <td>2.75</td>\n",
              "      <td>17850</td>\n",
              "      <td>UNITED KINGDOM</td>\n",
              "      <td>CREAM CUPID HEARTS COAT HANGER</td>\n",
              "    </tr>\n",
              "    <tr>\n",
              "      <th>59</th>\n",
              "      <td>536373</td>\n",
              "      <td>82494L</td>\n",
              "      <td>6</td>\n",
              "      <td>2010-12-01 09:02:00</td>\n",
              "      <td>2.55</td>\n",
              "      <td>17850</td>\n",
              "      <td>UNITED KINGDOM</td>\n",
              "      <td>WOODEN FRAME ANTIQUE WHITE</td>\n",
              "    </tr>\n",
              "    <tr>\n",
              "      <th>60</th>\n",
              "      <td>536373</td>\n",
              "      <td>84029G</td>\n",
              "      <td>6</td>\n",
              "      <td>2010-12-01 09:02:00</td>\n",
              "      <td>3.39</td>\n",
              "      <td>17850</td>\n",
              "      <td>UNITED KINGDOM</td>\n",
              "      <td>KNITTED UNION FLAG HOT WATER BOTTLE</td>\n",
              "    </tr>\n",
              "    <tr>\n",
              "      <th>61</th>\n",
              "      <td>536373</td>\n",
              "      <td>84029E</td>\n",
              "      <td>6</td>\n",
              "      <td>2010-12-01 09:02:00</td>\n",
              "      <td>3.39</td>\n",
              "      <td>17850</td>\n",
              "      <td>UNITED KINGDOM</td>\n",
              "      <td>RED WOOLLY HOTTIE WHITE HEART</td>\n",
              "    </tr>\n",
              "    <tr>\n",
              "      <th>65</th>\n",
              "      <td>536375</td>\n",
              "      <td>85123A</td>\n",
              "      <td>6</td>\n",
              "      <td>2010-12-01 09:32:00</td>\n",
              "      <td>2.55</td>\n",
              "      <td>17850</td>\n",
              "      <td>UNITED KINGDOM</td>\n",
              "      <td>CREAM HANGING HEART T-LIGHT HOLDER</td>\n",
              "    </tr>\n",
              "  </tbody>\n",
              "</table>\n",
              "</div>"
            ],
            "text/plain": [
              "   InvoiceNo StockCode  ...         Country                          Description\n",
              "0     536365    85123A  ...  UNITED KINGDOM   CREAM HANGING HEART T-LIGHT HOLDER\n",
              "2     536365    84406B  ...  UNITED KINGDOM       CREAM CUPID HEARTS COAT HANGER\n",
              "3     536365    84029G  ...  UNITED KINGDOM  KNITTED UNION FLAG HOT WATER BOTTLE\n",
              "4     536365    84029E  ...  UNITED KINGDOM        RED WOOLLY HOTTIE WHITE HEART\n",
              "48    536373    85123A  ...  UNITED KINGDOM   CREAM HANGING HEART T-LIGHT HOLDER\n",
              "50    536373    84406B  ...  UNITED KINGDOM       CREAM CUPID HEARTS COAT HANGER\n",
              "59    536373    82494L  ...  UNITED KINGDOM           WOODEN FRAME ANTIQUE WHITE\n",
              "60    536373    84029G  ...  UNITED KINGDOM  KNITTED UNION FLAG HOT WATER BOTTLE\n",
              "61    536373    84029E  ...  UNITED KINGDOM        RED WOOLLY HOTTIE WHITE HEART\n",
              "65    536375    85123A  ...  UNITED KINGDOM   CREAM HANGING HEART T-LIGHT HOLDER\n",
              "\n",
              "[10 rows x 8 columns]"
            ]
          },
          "metadata": {
            "tags": []
          },
          "execution_count": 146
        }
      ]
    },
    {
      "cell_type": "markdown",
      "metadata": {
        "id": "2nV0fNJ8fCBY"
      },
      "source": [
        "Additionally, there are 12 transactions with StockCode 'BANK CHARGES' that all have a UnitPrice of 15. These look like charges for select customers not directly tied to sales so let's remove them. "
      ]
    },
    {
      "cell_type": "code",
      "metadata": {
        "colab": {
          "base_uri": "https://localhost:8080/",
          "height": 426
        },
        "id": "4f1K1xEGdlj3",
        "outputId": "1f577713-fac3-410f-e98b-a9563c931eba"
      },
      "source": [
        "df[(df.StockCode.str.len())>7]"
      ],
      "execution_count": 147,
      "outputs": [
        {
          "output_type": "execute_result",
          "data": {
            "text/html": [
              "<div>\n",
              "<style scoped>\n",
              "    .dataframe tbody tr th:only-of-type {\n",
              "        vertical-align: middle;\n",
              "    }\n",
              "\n",
              "    .dataframe tbody tr th {\n",
              "        vertical-align: top;\n",
              "    }\n",
              "\n",
              "    .dataframe thead th {\n",
              "        text-align: right;\n",
              "    }\n",
              "</style>\n",
              "<table border=\"1\" class=\"dataframe\">\n",
              "  <thead>\n",
              "    <tr style=\"text-align: right;\">\n",
              "      <th></th>\n",
              "      <th>InvoiceNo</th>\n",
              "      <th>StockCode</th>\n",
              "      <th>Quantity</th>\n",
              "      <th>InvoiceDate</th>\n",
              "      <th>UnitPrice</th>\n",
              "      <th>CustomerID</th>\n",
              "      <th>Country</th>\n",
              "      <th>Description</th>\n",
              "    </tr>\n",
              "  </thead>\n",
              "  <tbody>\n",
              "    <tr>\n",
              "      <th>3212</th>\n",
              "      <td>536779</td>\n",
              "      <td>BANK CHARGES</td>\n",
              "      <td>1</td>\n",
              "      <td>2010-12-02 15:08:00</td>\n",
              "      <td>15.000</td>\n",
              "      <td>15823</td>\n",
              "      <td>UNITED KINGDOM</td>\n",
              "      <td>BANK CHARGES</td>\n",
              "    </tr>\n",
              "    <tr>\n",
              "      <th>38326</th>\n",
              "      <td>541505</td>\n",
              "      <td>BANK CHARGES</td>\n",
              "      <td>1</td>\n",
              "      <td>2011-01-18 15:58:00</td>\n",
              "      <td>15.000</td>\n",
              "      <td>15939</td>\n",
              "      <td>UNITED KINGDOM</td>\n",
              "      <td>BANK CHARGES</td>\n",
              "    </tr>\n",
              "    <tr>\n",
              "      <th>105494</th>\n",
              "      <td>549717</td>\n",
              "      <td>BANK CHARGES</td>\n",
              "      <td>1</td>\n",
              "      <td>2011-04-11 14:56:00</td>\n",
              "      <td>15.000</td>\n",
              "      <td>14606</td>\n",
              "      <td>UNITED KINGDOM</td>\n",
              "      <td>BANK CHARGES</td>\n",
              "    </tr>\n",
              "    <tr>\n",
              "      <th>122388</th>\n",
              "      <td>551945</td>\n",
              "      <td>BANK CHARGES</td>\n",
              "      <td>1</td>\n",
              "      <td>2011-05-05 11:09:00</td>\n",
              "      <td>15.000</td>\n",
              "      <td>16714</td>\n",
              "      <td>UNITED KINGDOM</td>\n",
              "      <td>BANK CHARGES</td>\n",
              "    </tr>\n",
              "    <tr>\n",
              "      <th>236644</th>\n",
              "      <td>565735</td>\n",
              "      <td>BANK CHARGES</td>\n",
              "      <td>1</td>\n",
              "      <td>2011-09-06 12:25:00</td>\n",
              "      <td>15.000</td>\n",
              "      <td>16904</td>\n",
              "      <td>UNITED KINGDOM</td>\n",
              "      <td>BANK CHARGES</td>\n",
              "    </tr>\n",
              "    <tr>\n",
              "      <th>264205</th>\n",
              "      <td>568375</td>\n",
              "      <td>BANK CHARGES</td>\n",
              "      <td>1</td>\n",
              "      <td>2011-09-26 17:01:00</td>\n",
              "      <td>15.000</td>\n",
              "      <td>13405</td>\n",
              "      <td>UNITED KINGDOM</td>\n",
              "      <td>BANK CHARGES</td>\n",
              "    </tr>\n",
              "    <tr>\n",
              "      <th>264206</th>\n",
              "      <td>568375</td>\n",
              "      <td>BANK CHARGES</td>\n",
              "      <td>1</td>\n",
              "      <td>2011-09-26 17:01:00</td>\n",
              "      <td>0.001</td>\n",
              "      <td>13405</td>\n",
              "      <td>UNITED KINGDOM</td>\n",
              "      <td>BANK CHARGES</td>\n",
              "    </tr>\n",
              "    <tr>\n",
              "      <th>302004</th>\n",
              "      <td>571900</td>\n",
              "      <td>BANK CHARGES</td>\n",
              "      <td>1</td>\n",
              "      <td>2011-10-19 14:26:00</td>\n",
              "      <td>15.000</td>\n",
              "      <td>13263</td>\n",
              "      <td>UNITED KINGDOM</td>\n",
              "      <td>BANK CHARGES</td>\n",
              "    </tr>\n",
              "    <tr>\n",
              "      <th>321864</th>\n",
              "      <td>573586</td>\n",
              "      <td>BANK CHARGES</td>\n",
              "      <td>1</td>\n",
              "      <td>2011-10-31 14:48:00</td>\n",
              "      <td>15.000</td>\n",
              "      <td>14704</td>\n",
              "      <td>UNITED KINGDOM</td>\n",
              "      <td>BANK CHARGES</td>\n",
              "    </tr>\n",
              "    <tr>\n",
              "      <th>329689</th>\n",
              "      <td>574546</td>\n",
              "      <td>BANK CHARGES</td>\n",
              "      <td>1</td>\n",
              "      <td>2011-11-04 14:59:00</td>\n",
              "      <td>15.000</td>\n",
              "      <td>13651</td>\n",
              "      <td>UNITED KINGDOM</td>\n",
              "      <td>BANK CHARGES</td>\n",
              "    </tr>\n",
              "    <tr>\n",
              "      <th>380712</th>\n",
              "      <td>579137</td>\n",
              "      <td>BANK CHARGES</td>\n",
              "      <td>1</td>\n",
              "      <td>2011-11-28 12:51:00</td>\n",
              "      <td>15.000</td>\n",
              "      <td>14704</td>\n",
              "      <td>UNITED KINGDOM</td>\n",
              "      <td>BANK CHARGES</td>\n",
              "    </tr>\n",
              "    <tr>\n",
              "      <th>400410</th>\n",
              "      <td>581127</td>\n",
              "      <td>BANK CHARGES</td>\n",
              "      <td>1</td>\n",
              "      <td>2011-12-07 12:45:00</td>\n",
              "      <td>15.000</td>\n",
              "      <td>16271</td>\n",
              "      <td>UNITED KINGDOM</td>\n",
              "      <td>BANK CHARGES</td>\n",
              "    </tr>\n",
              "  </tbody>\n",
              "</table>\n",
              "</div>"
            ],
            "text/plain": [
              "       InvoiceNo     StockCode  ...         Country   Description\n",
              "3212      536779  BANK CHARGES  ...  UNITED KINGDOM  BANK CHARGES\n",
              "38326     541505  BANK CHARGES  ...  UNITED KINGDOM  BANK CHARGES\n",
              "105494    549717  BANK CHARGES  ...  UNITED KINGDOM  BANK CHARGES\n",
              "122388    551945  BANK CHARGES  ...  UNITED KINGDOM  BANK CHARGES\n",
              "236644    565735  BANK CHARGES  ...  UNITED KINGDOM  BANK CHARGES\n",
              "264205    568375  BANK CHARGES  ...  UNITED KINGDOM  BANK CHARGES\n",
              "264206    568375  BANK CHARGES  ...  UNITED KINGDOM  BANK CHARGES\n",
              "302004    571900  BANK CHARGES  ...  UNITED KINGDOM  BANK CHARGES\n",
              "321864    573586  BANK CHARGES  ...  UNITED KINGDOM  BANK CHARGES\n",
              "329689    574546  BANK CHARGES  ...  UNITED KINGDOM  BANK CHARGES\n",
              "380712    579137  BANK CHARGES  ...  UNITED KINGDOM  BANK CHARGES\n",
              "400410    581127  BANK CHARGES  ...  UNITED KINGDOM  BANK CHARGES\n",
              "\n",
              "[12 rows x 8 columns]"
            ]
          },
          "metadata": {
            "tags": []
          },
          "execution_count": 147
        }
      ]
    },
    {
      "cell_type": "code",
      "metadata": {
        "id": "9X7TGC5hfjW5"
      },
      "source": [
        "df = df[df.StockCode != 'BANK CHARGES'].reset_index(drop=True) # Drop stock codes that are 'BANK CHARGES' "
      ],
      "execution_count": 148,
      "outputs": []
    },
    {
      "cell_type": "code",
      "metadata": {
        "colab": {
          "base_uri": "https://localhost:8080/",
          "height": 513
        },
        "id": "zwNGBMduq1pk",
        "outputId": "78eff92d-ae88-44d8-eadd-eddb395c26bb"
      },
      "source": [
        "df.describe(include='all')"
      ],
      "execution_count": 149,
      "outputs": [
        {
          "output_type": "stream",
          "text": [
            "/usr/local/lib/python3.7/dist-packages/ipykernel_launcher.py:1: FutureWarning: Treating datetime data as categorical rather than numeric in `.describe` is deprecated and will be removed in a future version of pandas. Specify `datetime_is_numeric=True` to silence this warning and adopt the future behavior now.\n",
            "  \"\"\"Entry point for launching an IPython kernel.\n"
          ],
          "name": "stderr"
        },
        {
          "output_type": "execute_result",
          "data": {
            "text/html": [
              "<div>\n",
              "<style scoped>\n",
              "    .dataframe tbody tr th:only-of-type {\n",
              "        vertical-align: middle;\n",
              "    }\n",
              "\n",
              "    .dataframe tbody tr th {\n",
              "        vertical-align: top;\n",
              "    }\n",
              "\n",
              "    .dataframe thead th {\n",
              "        text-align: right;\n",
              "    }\n",
              "</style>\n",
              "<table border=\"1\" class=\"dataframe\">\n",
              "  <thead>\n",
              "    <tr style=\"text-align: right;\">\n",
              "      <th></th>\n",
              "      <th>InvoiceNo</th>\n",
              "      <th>StockCode</th>\n",
              "      <th>Quantity</th>\n",
              "      <th>InvoiceDate</th>\n",
              "      <th>UnitPrice</th>\n",
              "      <th>CustomerID</th>\n",
              "      <th>Country</th>\n",
              "      <th>Description</th>\n",
              "    </tr>\n",
              "  </thead>\n",
              "  <tbody>\n",
              "    <tr>\n",
              "      <th>count</th>\n",
              "      <td>404909</td>\n",
              "      <td>404909</td>\n",
              "      <td>404909.000000</td>\n",
              "      <td>404909</td>\n",
              "      <td>404909.000000</td>\n",
              "      <td>404909</td>\n",
              "      <td>404909</td>\n",
              "      <td>404909</td>\n",
              "    </tr>\n",
              "    <tr>\n",
              "      <th>unique</th>\n",
              "      <td>21788</td>\n",
              "      <td>3676</td>\n",
              "      <td>NaN</td>\n",
              "      <td>20135</td>\n",
              "      <td>NaN</td>\n",
              "      <td>4363</td>\n",
              "      <td>37</td>\n",
              "      <td>3651</td>\n",
              "    </tr>\n",
              "    <tr>\n",
              "      <th>top</th>\n",
              "      <td>576339</td>\n",
              "      <td>85123A</td>\n",
              "      <td>NaN</td>\n",
              "      <td>2011-11-14 15:27:00</td>\n",
              "      <td>NaN</td>\n",
              "      <td>17841</td>\n",
              "      <td>UNITED KINGDOM</td>\n",
              "      <td>CREAM HANGING HEART T-LIGHT HOLDER</td>\n",
              "    </tr>\n",
              "    <tr>\n",
              "      <th>freq</th>\n",
              "      <td>541</td>\n",
              "      <td>2077</td>\n",
              "      <td>NaN</td>\n",
              "      <td>541</td>\n",
              "      <td>NaN</td>\n",
              "      <td>7971</td>\n",
              "      <td>361255</td>\n",
              "      <td>2077</td>\n",
              "    </tr>\n",
              "    <tr>\n",
              "      <th>first</th>\n",
              "      <td>NaN</td>\n",
              "      <td>NaN</td>\n",
              "      <td>NaN</td>\n",
              "      <td>2010-12-01 08:26:00</td>\n",
              "      <td>NaN</td>\n",
              "      <td>NaN</td>\n",
              "      <td>NaN</td>\n",
              "      <td>NaN</td>\n",
              "    </tr>\n",
              "    <tr>\n",
              "      <th>last</th>\n",
              "      <td>NaN</td>\n",
              "      <td>NaN</td>\n",
              "      <td>NaN</td>\n",
              "      <td>2011-12-09 12:50:00</td>\n",
              "      <td>NaN</td>\n",
              "      <td>NaN</td>\n",
              "      <td>NaN</td>\n",
              "      <td>NaN</td>\n",
              "    </tr>\n",
              "    <tr>\n",
              "      <th>mean</th>\n",
              "      <td>NaN</td>\n",
              "      <td>NaN</td>\n",
              "      <td>12.105799</td>\n",
              "      <td>NaN</td>\n",
              "      <td>2.901129</td>\n",
              "      <td>NaN</td>\n",
              "      <td>NaN</td>\n",
              "      <td>NaN</td>\n",
              "    </tr>\n",
              "    <tr>\n",
              "      <th>std</th>\n",
              "      <td>NaN</td>\n",
              "      <td>NaN</td>\n",
              "      <td>249.237543</td>\n",
              "      <td>NaN</td>\n",
              "      <td>4.430846</td>\n",
              "      <td>NaN</td>\n",
              "      <td>NaN</td>\n",
              "      <td>NaN</td>\n",
              "    </tr>\n",
              "    <tr>\n",
              "      <th>min</th>\n",
              "      <td>NaN</td>\n",
              "      <td>NaN</td>\n",
              "      <td>-80995.000000</td>\n",
              "      <td>NaN</td>\n",
              "      <td>0.000000</td>\n",
              "      <td>NaN</td>\n",
              "      <td>NaN</td>\n",
              "      <td>NaN</td>\n",
              "    </tr>\n",
              "    <tr>\n",
              "      <th>25%</th>\n",
              "      <td>NaN</td>\n",
              "      <td>NaN</td>\n",
              "      <td>2.000000</td>\n",
              "      <td>NaN</td>\n",
              "      <td>1.250000</td>\n",
              "      <td>NaN</td>\n",
              "      <td>NaN</td>\n",
              "      <td>NaN</td>\n",
              "    </tr>\n",
              "    <tr>\n",
              "      <th>50%</th>\n",
              "      <td>NaN</td>\n",
              "      <td>NaN</td>\n",
              "      <td>5.000000</td>\n",
              "      <td>NaN</td>\n",
              "      <td>1.950000</td>\n",
              "      <td>NaN</td>\n",
              "      <td>NaN</td>\n",
              "      <td>NaN</td>\n",
              "    </tr>\n",
              "    <tr>\n",
              "      <th>75%</th>\n",
              "      <td>NaN</td>\n",
              "      <td>NaN</td>\n",
              "      <td>12.000000</td>\n",
              "      <td>NaN</td>\n",
              "      <td>3.750000</td>\n",
              "      <td>NaN</td>\n",
              "      <td>NaN</td>\n",
              "      <td>NaN</td>\n",
              "    </tr>\n",
              "    <tr>\n",
              "      <th>max</th>\n",
              "      <td>NaN</td>\n",
              "      <td>NaN</td>\n",
              "      <td>80995.000000</td>\n",
              "      <td>NaN</td>\n",
              "      <td>649.500000</td>\n",
              "      <td>NaN</td>\n",
              "      <td>NaN</td>\n",
              "      <td>NaN</td>\n",
              "    </tr>\n",
              "  </tbody>\n",
              "</table>\n",
              "</div>"
            ],
            "text/plain": [
              "       InvoiceNo StockCode  ...         Country                         Description\n",
              "count     404909    404909  ...          404909                              404909\n",
              "unique     21788      3676  ...              37                                3651\n",
              "top       576339    85123A  ...  UNITED KINGDOM  CREAM HANGING HEART T-LIGHT HOLDER\n",
              "freq         541      2077  ...          361255                                2077\n",
              "first        NaN       NaN  ...             NaN                                 NaN\n",
              "last         NaN       NaN  ...             NaN                                 NaN\n",
              "mean         NaN       NaN  ...             NaN                                 NaN\n",
              "std          NaN       NaN  ...             NaN                                 NaN\n",
              "min          NaN       NaN  ...             NaN                                 NaN\n",
              "25%          NaN       NaN  ...             NaN                                 NaN\n",
              "50%          NaN       NaN  ...             NaN                                 NaN\n",
              "75%          NaN       NaN  ...             NaN                                 NaN\n",
              "max          NaN       NaN  ...             NaN                                 NaN\n",
              "\n",
              "[13 rows x 8 columns]"
            ]
          },
          "metadata": {
            "tags": []
          },
          "execution_count": 149
        }
      ]
    },
    {
      "cell_type": "markdown",
      "metadata": {
        "id": "ENpnaGEuFg2n"
      },
      "source": [
        "As expected, StockCode has more unique values than description \n",
        "\n",
        "Needs further investigation: \n",
        "- Negative quantity\n",
        "- Minimum price is 0"
      ]
    },
    {
      "cell_type": "markdown",
      "metadata": {
        "id": "dRUor2K9N9Lb"
      },
      "source": [
        "## Quantity"
      ]
    },
    {
      "cell_type": "markdown",
      "metadata": {
        "id": "4liz6YjTGoPM"
      },
      "source": [
        "Canceled orders have InvoiceNo that starts with C. Check if negative quantities are due to canceled orders."
      ]
    },
    {
      "cell_type": "code",
      "metadata": {
        "colab": {
          "base_uri": "https://localhost:8080/"
        },
        "id": "aFcqcn8yGtXz",
        "outputId": "0460c1ca-4cfa-4bbc-c62d-71fe317a2389"
      },
      "source": [
        "print('Number of negative quantities that are not canceled items:', len(df[(df.Quantity < 0) & (df.InvoiceNo.str[0]!='C')])) "
      ],
      "execution_count": 150,
      "outputs": [
        {
          "output_type": "stream",
          "text": [
            "Number of negative quantities that are not canceled items: 0\n"
          ],
          "name": "stdout"
        }
      ]
    },
    {
      "cell_type": "markdown",
      "metadata": {
        "id": "hrHcWCDoHhCG"
      },
      "source": [
        "All negative quantities are canceled items. \n",
        "\n"
      ]
    },
    {
      "cell_type": "code",
      "metadata": {
        "colab": {
          "base_uri": "https://localhost:8080/",
          "height": 834
        },
        "id": "QSn-QQ23GULL",
        "outputId": "ae52f082-dbc9-455d-a8f4-19fd1b8ce4f6"
      },
      "source": [
        "# Check quantities over 2000\n",
        "df[(abs(df.Quantity)>2000)]"
      ],
      "execution_count": 151,
      "outputs": [
        {
          "output_type": "execute_result",
          "data": {
            "text/html": [
              "<div>\n",
              "<style scoped>\n",
              "    .dataframe tbody tr th:only-of-type {\n",
              "        vertical-align: middle;\n",
              "    }\n",
              "\n",
              "    .dataframe tbody tr th {\n",
              "        vertical-align: top;\n",
              "    }\n",
              "\n",
              "    .dataframe thead th {\n",
              "        text-align: right;\n",
              "    }\n",
              "</style>\n",
              "<table border=\"1\" class=\"dataframe\">\n",
              "  <thead>\n",
              "    <tr style=\"text-align: right;\">\n",
              "      <th></th>\n",
              "      <th>InvoiceNo</th>\n",
              "      <th>StockCode</th>\n",
              "      <th>Quantity</th>\n",
              "      <th>InvoiceDate</th>\n",
              "      <th>UnitPrice</th>\n",
              "      <th>CustomerID</th>\n",
              "      <th>Country</th>\n",
              "      <th>Description</th>\n",
              "    </tr>\n",
              "  </thead>\n",
              "  <tbody>\n",
              "    <tr>\n",
              "      <th>3095</th>\n",
              "      <td>C536757</td>\n",
              "      <td>84347</td>\n",
              "      <td>-9360</td>\n",
              "      <td>2010-12-02 14:23:00</td>\n",
              "      <td>0.03</td>\n",
              "      <td>15838</td>\n",
              "      <td>UNITED KINGDOM</td>\n",
              "      <td>ROTATING SILVER ANGELS T-LIGHT HLDR</td>\n",
              "    </tr>\n",
              "    <tr>\n",
              "      <th>3732</th>\n",
              "      <td>536830</td>\n",
              "      <td>84077</td>\n",
              "      <td>2880</td>\n",
              "      <td>2010-12-02 17:38:00</td>\n",
              "      <td>0.18</td>\n",
              "      <td>16754</td>\n",
              "      <td>UNITED KINGDOM</td>\n",
              "      <td>WORLD WAR 2 GLIDERS ASSTD DESIGNS</td>\n",
              "    </tr>\n",
              "    <tr>\n",
              "      <th>22146</th>\n",
              "      <td>539101</td>\n",
              "      <td>22693</td>\n",
              "      <td>2400</td>\n",
              "      <td>2010-12-16 10:35:00</td>\n",
              "      <td>0.94</td>\n",
              "      <td>16029</td>\n",
              "      <td>UNITED KINGDOM</td>\n",
              "      <td>GROW A FLYTRAP OR SUNFLOWER IN TIN</td>\n",
              "    </tr>\n",
              "    <tr>\n",
              "      <th>33497</th>\n",
              "      <td>540815</td>\n",
              "      <td>21108</td>\n",
              "      <td>3114</td>\n",
              "      <td>2011-01-11 12:55:00</td>\n",
              "      <td>2.10</td>\n",
              "      <td>15749</td>\n",
              "      <td>UNITED KINGDOM</td>\n",
              "      <td>FAIRY CAKE FLANNEL ASSORTED COLOUR</td>\n",
              "    </tr>\n",
              "    <tr>\n",
              "      <th>37949</th>\n",
              "      <td>541431</td>\n",
              "      <td>23166</td>\n",
              "      <td>74215</td>\n",
              "      <td>2011-01-18 10:01:00</td>\n",
              "      <td>1.04</td>\n",
              "      <td>12346</td>\n",
              "      <td>UNITED KINGDOM</td>\n",
              "      <td>MEDIUM CERAMIC TOP STORAGE JAR</td>\n",
              "    </tr>\n",
              "    <tr>\n",
              "      <th>37954</th>\n",
              "      <td>C541433</td>\n",
              "      <td>23166</td>\n",
              "      <td>-74215</td>\n",
              "      <td>2011-01-18 10:17:00</td>\n",
              "      <td>1.04</td>\n",
              "      <td>12346</td>\n",
              "      <td>UNITED KINGDOM</td>\n",
              "      <td>MEDIUM CERAMIC TOP STORAGE JAR</td>\n",
              "    </tr>\n",
              "    <tr>\n",
              "      <th>50920</th>\n",
              "      <td>543057</td>\n",
              "      <td>84077</td>\n",
              "      <td>2592</td>\n",
              "      <td>2011-02-03 10:50:00</td>\n",
              "      <td>0.21</td>\n",
              "      <td>16333</td>\n",
              "      <td>UNITED KINGDOM</td>\n",
              "      <td>WORLD WAR 2 GLIDERS ASSTD DESIGNS</td>\n",
              "    </tr>\n",
              "    <tr>\n",
              "      <th>55636</th>\n",
              "      <td>543669</td>\n",
              "      <td>22693</td>\n",
              "      <td>2400</td>\n",
              "      <td>2011-02-11 11:22:00</td>\n",
              "      <td>0.94</td>\n",
              "      <td>16029</td>\n",
              "      <td>UNITED KINGDOM</td>\n",
              "      <td>GROW A FLYTRAP OR SUNFLOWER IN TIN</td>\n",
              "    </tr>\n",
              "    <tr>\n",
              "      <th>58917</th>\n",
              "      <td>544152</td>\n",
              "      <td>18007</td>\n",
              "      <td>2400</td>\n",
              "      <td>2011-02-16 12:10:00</td>\n",
              "      <td>0.06</td>\n",
              "      <td>14609</td>\n",
              "      <td>UNITED KINGDOM</td>\n",
              "      <td>ESSENTIAL BALM 35G TIN IN ENVELOPE</td>\n",
              "    </tr>\n",
              "    <tr>\n",
              "      <th>63033</th>\n",
              "      <td>544612</td>\n",
              "      <td>22053</td>\n",
              "      <td>3906</td>\n",
              "      <td>2011-02-22 10:43:00</td>\n",
              "      <td>0.82</td>\n",
              "      <td>18087</td>\n",
              "      <td>UNITED KINGDOM</td>\n",
              "      <td>EMPIRE DESIGN ROSETTE</td>\n",
              "    </tr>\n",
              "    <tr>\n",
              "      <th>84043</th>\n",
              "      <td>547037</td>\n",
              "      <td>21967</td>\n",
              "      <td>2160</td>\n",
              "      <td>2011-03-20 10:37:00</td>\n",
              "      <td>0.25</td>\n",
              "      <td>14101</td>\n",
              "      <td>UNITED KINGDOM</td>\n",
              "      <td>PACK OF 12 SKULL TISSUES</td>\n",
              "    </tr>\n",
              "    <tr>\n",
              "      <th>111827</th>\n",
              "      <td>C550456</td>\n",
              "      <td>21108</td>\n",
              "      <td>-3114</td>\n",
              "      <td>2011-04-18 13:08:00</td>\n",
              "      <td>2.10</td>\n",
              "      <td>15749</td>\n",
              "      <td>UNITED KINGDOM</td>\n",
              "      <td>FAIRY CAKE FLANNEL ASSORTED COLOUR</td>\n",
              "    </tr>\n",
              "    <tr>\n",
              "      <th>111894</th>\n",
              "      <td>550461</td>\n",
              "      <td>21108</td>\n",
              "      <td>3114</td>\n",
              "      <td>2011-04-18 13:20:00</td>\n",
              "      <td>2.10</td>\n",
              "      <td>15749</td>\n",
              "      <td>UNITED KINGDOM</td>\n",
              "      <td>FAIRY CAKE FLANNEL ASSORTED COLOUR</td>\n",
              "    </tr>\n",
              "    <tr>\n",
              "      <th>142415</th>\n",
              "      <td>554272</td>\n",
              "      <td>21977</td>\n",
              "      <td>2700</td>\n",
              "      <td>2011-05-23 13:08:00</td>\n",
              "      <td>0.42</td>\n",
              "      <td>12901</td>\n",
              "      <td>UNITED KINGDOM</td>\n",
              "      <td>PACK OF 60 PINK PAISLEY CAKE CASES</td>\n",
              "    </tr>\n",
              "    <tr>\n",
              "      <th>146074</th>\n",
              "      <td>554868</td>\n",
              "      <td>22197</td>\n",
              "      <td>4300</td>\n",
              "      <td>2011-05-27 10:52:00</td>\n",
              "      <td>0.72</td>\n",
              "      <td>13135</td>\n",
              "      <td>UNITED KINGDOM</td>\n",
              "      <td>POPCORN HOLDER</td>\n",
              "    </tr>\n",
              "    <tr>\n",
              "      <th>192570</th>\n",
              "      <td>560599</td>\n",
              "      <td>18007</td>\n",
              "      <td>3186</td>\n",
              "      <td>2011-07-19 17:04:00</td>\n",
              "      <td>0.06</td>\n",
              "      <td>14609</td>\n",
              "      <td>UNITED KINGDOM</td>\n",
              "      <td>ESSENTIAL BALM 35G TIN IN ENVELOPE</td>\n",
              "    </tr>\n",
              "    <tr>\n",
              "      <th>208058</th>\n",
              "      <td>562439</td>\n",
              "      <td>84879</td>\n",
              "      <td>2880</td>\n",
              "      <td>2011-08-04 18:06:00</td>\n",
              "      <td>1.45</td>\n",
              "      <td>12931</td>\n",
              "      <td>UNITED KINGDOM</td>\n",
              "      <td>ASSORTED COLOUR BIRD ORNAMENT</td>\n",
              "    </tr>\n",
              "    <tr>\n",
              "      <th>313979</th>\n",
              "      <td>573003</td>\n",
              "      <td>23084</td>\n",
              "      <td>2400</td>\n",
              "      <td>2011-10-27 12:11:00</td>\n",
              "      <td>2.08</td>\n",
              "      <td>14646</td>\n",
              "      <td>NETHERLANDS</td>\n",
              "      <td>RABBIT NIGHT LIGHT</td>\n",
              "    </tr>\n",
              "    <tr>\n",
              "      <th>314010</th>\n",
              "      <td>573008</td>\n",
              "      <td>84077</td>\n",
              "      <td>4800</td>\n",
              "      <td>2011-10-27 12:26:00</td>\n",
              "      <td>0.21</td>\n",
              "      <td>12901</td>\n",
              "      <td>UNITED KINGDOM</td>\n",
              "      <td>WORLD WAR 2 GLIDERS ASSTD DESIGNS</td>\n",
              "    </tr>\n",
              "    <tr>\n",
              "      <th>324079</th>\n",
              "      <td>573995</td>\n",
              "      <td>16014</td>\n",
              "      <td>3000</td>\n",
              "      <td>2011-11-02 11:24:00</td>\n",
              "      <td>0.32</td>\n",
              "      <td>16308</td>\n",
              "      <td>UNITED KINGDOM</td>\n",
              "      <td>SMALL CHINESE STYLE SCISSOR</td>\n",
              "    </tr>\n",
              "    <tr>\n",
              "      <th>326924</th>\n",
              "      <td>574294</td>\n",
              "      <td>21915</td>\n",
              "      <td>2100</td>\n",
              "      <td>2011-11-03 15:47:00</td>\n",
              "      <td>1.06</td>\n",
              "      <td>16333</td>\n",
              "      <td>UNITED KINGDOM</td>\n",
              "      <td>RED  HARMONICA IN BOX</td>\n",
              "    </tr>\n",
              "    <tr>\n",
              "      <th>377084</th>\n",
              "      <td>578841</td>\n",
              "      <td>84826</td>\n",
              "      <td>12540</td>\n",
              "      <td>2011-11-25 15:57:00</td>\n",
              "      <td>0.00</td>\n",
              "      <td>13256</td>\n",
              "      <td>UNITED KINGDOM</td>\n",
              "      <td>ASSTD DESIGN 3D PAPER STICKERS</td>\n",
              "    </tr>\n",
              "    <tr>\n",
              "      <th>384712</th>\n",
              "      <td>579498</td>\n",
              "      <td>23084</td>\n",
              "      <td>2040</td>\n",
              "      <td>2011-11-29 15:52:00</td>\n",
              "      <td>1.79</td>\n",
              "      <td>12798</td>\n",
              "      <td>JAPAN</td>\n",
              "      <td>RABBIT NIGHT LIGHT</td>\n",
              "    </tr>\n",
              "    <tr>\n",
              "      <th>404435</th>\n",
              "      <td>581483</td>\n",
              "      <td>23843</td>\n",
              "      <td>80995</td>\n",
              "      <td>2011-12-09 09:15:00</td>\n",
              "      <td>2.08</td>\n",
              "      <td>16446</td>\n",
              "      <td>UNITED KINGDOM</td>\n",
              "      <td>PAPER CRAFT , LITTLE BIRDIE</td>\n",
              "    </tr>\n",
              "    <tr>\n",
              "      <th>404436</th>\n",
              "      <td>C581484</td>\n",
              "      <td>23843</td>\n",
              "      <td>-80995</td>\n",
              "      <td>2011-12-09 09:27:00</td>\n",
              "      <td>2.08</td>\n",
              "      <td>16446</td>\n",
              "      <td>UNITED KINGDOM</td>\n",
              "      <td>PAPER CRAFT , LITTLE BIRDIE</td>\n",
              "    </tr>\n",
              "  </tbody>\n",
              "</table>\n",
              "</div>"
            ],
            "text/plain": [
              "       InvoiceNo StockCode  ...         Country                          Description\n",
              "3095     C536757     84347  ...  UNITED KINGDOM  ROTATING SILVER ANGELS T-LIGHT HLDR\n",
              "3732      536830     84077  ...  UNITED KINGDOM    WORLD WAR 2 GLIDERS ASSTD DESIGNS\n",
              "22146     539101     22693  ...  UNITED KINGDOM   GROW A FLYTRAP OR SUNFLOWER IN TIN\n",
              "33497     540815     21108  ...  UNITED KINGDOM   FAIRY CAKE FLANNEL ASSORTED COLOUR\n",
              "37949     541431     23166  ...  UNITED KINGDOM       MEDIUM CERAMIC TOP STORAGE JAR\n",
              "37954    C541433     23166  ...  UNITED KINGDOM       MEDIUM CERAMIC TOP STORAGE JAR\n",
              "50920     543057     84077  ...  UNITED KINGDOM    WORLD WAR 2 GLIDERS ASSTD DESIGNS\n",
              "55636     543669     22693  ...  UNITED KINGDOM   GROW A FLYTRAP OR SUNFLOWER IN TIN\n",
              "58917     544152     18007  ...  UNITED KINGDOM   ESSENTIAL BALM 35G TIN IN ENVELOPE\n",
              "63033     544612     22053  ...  UNITED KINGDOM                EMPIRE DESIGN ROSETTE\n",
              "84043     547037     21967  ...  UNITED KINGDOM             PACK OF 12 SKULL TISSUES\n",
              "111827   C550456     21108  ...  UNITED KINGDOM   FAIRY CAKE FLANNEL ASSORTED COLOUR\n",
              "111894    550461     21108  ...  UNITED KINGDOM   FAIRY CAKE FLANNEL ASSORTED COLOUR\n",
              "142415    554272     21977  ...  UNITED KINGDOM   PACK OF 60 PINK PAISLEY CAKE CASES\n",
              "146074    554868     22197  ...  UNITED KINGDOM                       POPCORN HOLDER\n",
              "192570    560599     18007  ...  UNITED KINGDOM   ESSENTIAL BALM 35G TIN IN ENVELOPE\n",
              "208058    562439     84879  ...  UNITED KINGDOM        ASSORTED COLOUR BIRD ORNAMENT\n",
              "313979    573003     23084  ...     NETHERLANDS                   RABBIT NIGHT LIGHT\n",
              "314010    573008     84077  ...  UNITED KINGDOM    WORLD WAR 2 GLIDERS ASSTD DESIGNS\n",
              "324079    573995     16014  ...  UNITED KINGDOM          SMALL CHINESE STYLE SCISSOR\n",
              "326924    574294     21915  ...  UNITED KINGDOM                RED  HARMONICA IN BOX\n",
              "377084    578841     84826  ...  UNITED KINGDOM       ASSTD DESIGN 3D PAPER STICKERS\n",
              "384712    579498     23084  ...           JAPAN                   RABBIT NIGHT LIGHT\n",
              "404435    581483     23843  ...  UNITED KINGDOM          PAPER CRAFT , LITTLE BIRDIE\n",
              "404436   C581484     23843  ...  UNITED KINGDOM          PAPER CRAFT , LITTLE BIRDIE\n",
              "\n",
              "[25 rows x 8 columns]"
            ]
          },
          "metadata": {
            "tags": []
          },
          "execution_count": 151
        }
      ]
    },
    {
      "cell_type": "markdown",
      "metadata": {
        "id": "FfRUK00ZLR-q"
      },
      "source": [
        "- Quantities 3114, 74215, and 80995 are tied to matching canceled orders"
      ]
    },
    {
      "cell_type": "code",
      "metadata": {
        "colab": {
          "base_uri": "https://localhost:8080/"
        },
        "id": "9wupfLlDCYlU",
        "outputId": "e79d99b8-cb34-4927-f21a-7dc70af12166"
      },
      "source": [
        "print('{:.2f}% of orders were canceled'.format(len(df[df.InvoiceNo.str[0]=='C']) / len(df) * 100))"
      ],
      "execution_count": 152,
      "outputs": [
        {
          "output_type": "stream",
          "text": [
            "2.11% of orders were canceled\n"
          ],
          "name": "stdout"
        }
      ]
    },
    {
      "cell_type": "markdown",
      "metadata": {
        "id": "ldw022HETsKm"
      },
      "source": [
        "We'll create a separate dataframe for canceled orders in case we want to explore them later. \n",
        "\n",
        "Ideally, we should also remove the original purchases that were subsequently canceled, but I wasn't able to find a way to any pattern or matching logic with StockCode (which are many to one with each item) or InvoiceNo. "
      ]
    },
    {
      "cell_type": "markdown",
      "metadata": {
        "id": "2DiN599EOBM6"
      },
      "source": [
        "## Price"
      ]
    },
    {
      "cell_type": "markdown",
      "metadata": {
        "id": "VCo5tb2CMYHs"
      },
      "source": [
        "There are also prices equal to 0, let's drop these. "
      ]
    },
    {
      "cell_type": "code",
      "metadata": {
        "colab": {
          "base_uri": "https://localhost:8080/",
          "height": 1000
        },
        "id": "LASy5PRvIjAV",
        "outputId": "e79ff348-dcbf-456b-86e4-2a1fa4a59c70"
      },
      "source": [
        "df[df.UnitPrice <= 0]"
      ],
      "execution_count": null,
      "outputs": [
        {
          "output_type": "execute_result",
          "data": {
            "text/html": [
              "<div>\n",
              "<style scoped>\n",
              "    .dataframe tbody tr th:only-of-type {\n",
              "        vertical-align: middle;\n",
              "    }\n",
              "\n",
              "    .dataframe tbody tr th {\n",
              "        vertical-align: top;\n",
              "    }\n",
              "\n",
              "    .dataframe thead th {\n",
              "        text-align: right;\n",
              "    }\n",
              "</style>\n",
              "<table border=\"1\" class=\"dataframe\">\n",
              "  <thead>\n",
              "    <tr style=\"text-align: right;\">\n",
              "      <th></th>\n",
              "      <th>InvoiceNo</th>\n",
              "      <th>StockCode</th>\n",
              "      <th>Quantity</th>\n",
              "      <th>InvoiceDate</th>\n",
              "      <th>UnitPrice</th>\n",
              "      <th>CustomerID</th>\n",
              "      <th>Country</th>\n",
              "      <th>Description</th>\n",
              "    </tr>\n",
              "  </thead>\n",
              "  <tbody>\n",
              "    <tr>\n",
              "      <th>6986</th>\n",
              "      <td>537197</td>\n",
              "      <td>22841</td>\n",
              "      <td>1</td>\n",
              "      <td>2010-12-05 14:02:00</td>\n",
              "      <td>0.0</td>\n",
              "      <td>12647</td>\n",
              "      <td>GERMANY</td>\n",
              "      <td>ROUND CAKE TIN VINTAGE GREEN</td>\n",
              "    </tr>\n",
              "    <tr>\n",
              "      <th>22988</th>\n",
              "      <td>539263</td>\n",
              "      <td>22580</td>\n",
              "      <td>4</td>\n",
              "      <td>2010-12-16 14:36:00</td>\n",
              "      <td>0.0</td>\n",
              "      <td>16560</td>\n",
              "      <td>UNITED KINGDOM</td>\n",
              "      <td>ADVENT CALENDAR GINGHAM SACK</td>\n",
              "    </tr>\n",
              "    <tr>\n",
              "      <th>25937</th>\n",
              "      <td>539722</td>\n",
              "      <td>22423</td>\n",
              "      <td>10</td>\n",
              "      <td>2010-12-21 13:45:00</td>\n",
              "      <td>0.0</td>\n",
              "      <td>14911</td>\n",
              "      <td>EIRE</td>\n",
              "      <td>REGENCY CAKESTAND 3 TIER</td>\n",
              "    </tr>\n",
              "    <tr>\n",
              "      <th>29750</th>\n",
              "      <td>540372</td>\n",
              "      <td>22090</td>\n",
              "      <td>24</td>\n",
              "      <td>2011-01-06 16:41:00</td>\n",
              "      <td>0.0</td>\n",
              "      <td>13081</td>\n",
              "      <td>UNITED KINGDOM</td>\n",
              "      <td>PAPER BUNTING RETROSPOT</td>\n",
              "    </tr>\n",
              "    <tr>\n",
              "      <th>29752</th>\n",
              "      <td>540372</td>\n",
              "      <td>22553</td>\n",
              "      <td>24</td>\n",
              "      <td>2011-01-06 16:41:00</td>\n",
              "      <td>0.0</td>\n",
              "      <td>13081</td>\n",
              "      <td>UNITED KINGDOM</td>\n",
              "      <td>PLASTERS IN TIN SKULLS</td>\n",
              "    </tr>\n",
              "    <tr>\n",
              "      <th>35300</th>\n",
              "      <td>541109</td>\n",
              "      <td>22168</td>\n",
              "      <td>1</td>\n",
              "      <td>2011-01-13 15:10:00</td>\n",
              "      <td>0.0</td>\n",
              "      <td>15107</td>\n",
              "      <td>UNITED KINGDOM</td>\n",
              "      <td>ORGANISER WOOD ANTIQUE WHITE</td>\n",
              "    </tr>\n",
              "    <tr>\n",
              "      <th>55025</th>\n",
              "      <td>543599</td>\n",
              "      <td>84535B</td>\n",
              "      <td>16</td>\n",
              "      <td>2011-02-10 13:08:00</td>\n",
              "      <td>0.0</td>\n",
              "      <td>17560</td>\n",
              "      <td>UNITED KINGDOM</td>\n",
              "      <td>FAIRY CAKES NOTEBOOK A6 SIZE</td>\n",
              "    </tr>\n",
              "    <tr>\n",
              "      <th>87481</th>\n",
              "      <td>547417</td>\n",
              "      <td>22062</td>\n",
              "      <td>36</td>\n",
              "      <td>2011-03-23 10:25:00</td>\n",
              "      <td>0.0</td>\n",
              "      <td>13239</td>\n",
              "      <td>UNITED KINGDOM</td>\n",
              "      <td>CERAMIC BOWL WITH LOVE HEART DESIGN</td>\n",
              "    </tr>\n",
              "    <tr>\n",
              "      <th>94745</th>\n",
              "      <td>548318</td>\n",
              "      <td>22055</td>\n",
              "      <td>5</td>\n",
              "      <td>2011-03-30 12:45:00</td>\n",
              "      <td>0.0</td>\n",
              "      <td>13113</td>\n",
              "      <td>UNITED KINGDOM</td>\n",
              "      <td>MINI CAKE STAND  HANGING STRAWBERY</td>\n",
              "    </tr>\n",
              "    <tr>\n",
              "      <th>99450</th>\n",
              "      <td>548871</td>\n",
              "      <td>22162</td>\n",
              "      <td>2</td>\n",
              "      <td>2011-04-04 14:42:00</td>\n",
              "      <td>0.0</td>\n",
              "      <td>14410</td>\n",
              "      <td>UNITED KINGDOM</td>\n",
              "      <td>HEART GARLAND RUSTIC PADDED</td>\n",
              "    </tr>\n",
              "    <tr>\n",
              "      <th>109434</th>\n",
              "      <td>550188</td>\n",
              "      <td>22636</td>\n",
              "      <td>1</td>\n",
              "      <td>2011-04-14 18:57:00</td>\n",
              "      <td>0.0</td>\n",
              "      <td>12457</td>\n",
              "      <td>SWITZERLAND</td>\n",
              "      <td>CHILDS BREAKFAST SET CIRCUS PARADE</td>\n",
              "    </tr>\n",
              "    <tr>\n",
              "      <th>131225</th>\n",
              "      <td>553000</td>\n",
              "      <td>47566</td>\n",
              "      <td>4</td>\n",
              "      <td>2011-05-12 15:21:00</td>\n",
              "      <td>0.0</td>\n",
              "      <td>17667</td>\n",
              "      <td>UNITED KINGDOM</td>\n",
              "      <td>PARTY BUNTING</td>\n",
              "    </tr>\n",
              "    <tr>\n",
              "      <th>139833</th>\n",
              "      <td>554037</td>\n",
              "      <td>22619</td>\n",
              "      <td>80</td>\n",
              "      <td>2011-05-20 14:13:00</td>\n",
              "      <td>0.0</td>\n",
              "      <td>12415</td>\n",
              "      <td>AUSTRALIA</td>\n",
              "      <td>SET OF 6 SOLDIER SKITTLES</td>\n",
              "    </tr>\n",
              "    <tr>\n",
              "      <th>198514</th>\n",
              "      <td>561284</td>\n",
              "      <td>22167</td>\n",
              "      <td>1</td>\n",
              "      <td>2011-07-26 12:24:00</td>\n",
              "      <td>0.0</td>\n",
              "      <td>16818</td>\n",
              "      <td>UNITED KINGDOM</td>\n",
              "      <td>OVAL WALL MIRROR DIAMANTE</td>\n",
              "    </tr>\n",
              "    <tr>\n",
              "      <th>201078</th>\n",
              "      <td>561669</td>\n",
              "      <td>22960</td>\n",
              "      <td>11</td>\n",
              "      <td>2011-07-28 17:09:00</td>\n",
              "      <td>0.0</td>\n",
              "      <td>12507</td>\n",
              "      <td>SPAIN</td>\n",
              "      <td>JAM MAKING SET WITH JARS</td>\n",
              "    </tr>\n",
              "    <tr>\n",
              "      <th>213080</th>\n",
              "      <td>562973</td>\n",
              "      <td>23157</td>\n",
              "      <td>240</td>\n",
              "      <td>2011-08-11 11:42:00</td>\n",
              "      <td>0.0</td>\n",
              "      <td>14911</td>\n",
              "      <td>EIRE</td>\n",
              "      <td>SET OF 6 NATIVITY MAGNETS</td>\n",
              "    </tr>\n",
              "    <tr>\n",
              "      <th>228238</th>\n",
              "      <td>564651</td>\n",
              "      <td>23270</td>\n",
              "      <td>96</td>\n",
              "      <td>2011-08-26 14:19:00</td>\n",
              "      <td>0.0</td>\n",
              "      <td>14646</td>\n",
              "      <td>NETHERLANDS</td>\n",
              "      <td>SET OF 2 CERAMIC PAINTED HEARTS</td>\n",
              "    </tr>\n",
              "    <tr>\n",
              "      <th>228239</th>\n",
              "      <td>564651</td>\n",
              "      <td>23268</td>\n",
              "      <td>192</td>\n",
              "      <td>2011-08-26 14:19:00</td>\n",
              "      <td>0.0</td>\n",
              "      <td>14646</td>\n",
              "      <td>NETHERLANDS</td>\n",
              "      <td>SET OF 2 CERAMIC CHRISTMAS REINDEER</td>\n",
              "    </tr>\n",
              "    <tr>\n",
              "      <th>228240</th>\n",
              "      <td>564651</td>\n",
              "      <td>22955</td>\n",
              "      <td>144</td>\n",
              "      <td>2011-08-26 14:19:00</td>\n",
              "      <td>0.0</td>\n",
              "      <td>14646</td>\n",
              "      <td>NETHERLANDS</td>\n",
              "      <td>36 FOIL STAR CAKE CASES</td>\n",
              "    </tr>\n",
              "    <tr>\n",
              "      <th>228241</th>\n",
              "      <td>564651</td>\n",
              "      <td>21786</td>\n",
              "      <td>144</td>\n",
              "      <td>2011-08-26 14:19:00</td>\n",
              "      <td>0.0</td>\n",
              "      <td>14646</td>\n",
              "      <td>NETHERLANDS</td>\n",
              "      <td>POLKADOT RAIN HAT</td>\n",
              "    </tr>\n",
              "    <tr>\n",
              "      <th>279020</th>\n",
              "      <td>569716</td>\n",
              "      <td>22778</td>\n",
              "      <td>2</td>\n",
              "      <td>2011-10-06 08:17:00</td>\n",
              "      <td>0.0</td>\n",
              "      <td>15804</td>\n",
              "      <td>UNITED KINGDOM</td>\n",
              "      <td>GLASS BELL JAR SMALL</td>\n",
              "    </tr>\n",
              "    <tr>\n",
              "      <th>312968</th>\n",
              "      <td>572893</td>\n",
              "      <td>21208</td>\n",
              "      <td>5</td>\n",
              "      <td>2011-10-26 14:36:00</td>\n",
              "      <td>0.0</td>\n",
              "      <td>18059</td>\n",
              "      <td>UNITED KINGDOM</td>\n",
              "      <td>PASTEL COLOUR HONEYCOMB FAN</td>\n",
              "    </tr>\n",
              "    <tr>\n",
              "      <th>325889</th>\n",
              "      <td>574138</td>\n",
              "      <td>23234</td>\n",
              "      <td>216</td>\n",
              "      <td>2011-11-03 11:26:00</td>\n",
              "      <td>0.0</td>\n",
              "      <td>12415</td>\n",
              "      <td>AUSTRALIA</td>\n",
              "      <td>BISCUIT TIN VINTAGE CHRISTMAS</td>\n",
              "    </tr>\n",
              "    <tr>\n",
              "      <th>326056</th>\n",
              "      <td>574175</td>\n",
              "      <td>22065</td>\n",
              "      <td>12</td>\n",
              "      <td>2011-11-03 11:47:00</td>\n",
              "      <td>0.0</td>\n",
              "      <td>14110</td>\n",
              "      <td>UNITED KINGDOM</td>\n",
              "      <td>CHRISTMAS PUDDING TRINKET POT</td>\n",
              "    </tr>\n",
              "    <tr>\n",
              "      <th>328303</th>\n",
              "      <td>574469</td>\n",
              "      <td>22385</td>\n",
              "      <td>12</td>\n",
              "      <td>2011-11-04 11:55:00</td>\n",
              "      <td>0.0</td>\n",
              "      <td>12431</td>\n",
              "      <td>AUSTRALIA</td>\n",
              "      <td>JUMBO BAG SPACEBOY DESIGN</td>\n",
              "    </tr>\n",
              "    <tr>\n",
              "      <th>334495</th>\n",
              "      <td>574879</td>\n",
              "      <td>22625</td>\n",
              "      <td>2</td>\n",
              "      <td>2011-11-07 13:22:00</td>\n",
              "      <td>0.0</td>\n",
              "      <td>13014</td>\n",
              "      <td>UNITED KINGDOM</td>\n",
              "      <td>RED KITCHEN SCALES</td>\n",
              "    </tr>\n",
              "    <tr>\n",
              "      <th>335126</th>\n",
              "      <td>574920</td>\n",
              "      <td>22899</td>\n",
              "      <td>1</td>\n",
              "      <td>2011-11-07 16:34:00</td>\n",
              "      <td>0.0</td>\n",
              "      <td>13985</td>\n",
              "      <td>UNITED KINGDOM</td>\n",
              "      <td>CHILDREN'S APRON DOLLY GIRL</td>\n",
              "    </tr>\n",
              "    <tr>\n",
              "      <th>335127</th>\n",
              "      <td>574920</td>\n",
              "      <td>23480</td>\n",
              "      <td>1</td>\n",
              "      <td>2011-11-07 16:34:00</td>\n",
              "      <td>0.0</td>\n",
              "      <td>13985</td>\n",
              "      <td>UNITED KINGDOM</td>\n",
              "      <td>MINI LIGHTS WOODLAND MUSHROOMS</td>\n",
              "    </tr>\n",
              "    <tr>\n",
              "      <th>340483</th>\n",
              "      <td>575579</td>\n",
              "      <td>22437</td>\n",
              "      <td>20</td>\n",
              "      <td>2011-11-10 11:49:00</td>\n",
              "      <td>0.0</td>\n",
              "      <td>13081</td>\n",
              "      <td>UNITED KINGDOM</td>\n",
              "      <td>SET OF 9 BLACK SKULL BALLOONS</td>\n",
              "    </tr>\n",
              "    <tr>\n",
              "      <th>340484</th>\n",
              "      <td>575579</td>\n",
              "      <td>22089</td>\n",
              "      <td>24</td>\n",
              "      <td>2011-11-10 11:49:00</td>\n",
              "      <td>0.0</td>\n",
              "      <td>13081</td>\n",
              "      <td>UNITED KINGDOM</td>\n",
              "      <td>PAPER BUNTING VINTAGE PAISLEY</td>\n",
              "    </tr>\n",
              "    <tr>\n",
              "      <th>359129</th>\n",
              "      <td>577129</td>\n",
              "      <td>22464</td>\n",
              "      <td>4</td>\n",
              "      <td>2011-11-17 19:52:00</td>\n",
              "      <td>0.0</td>\n",
              "      <td>15602</td>\n",
              "      <td>UNITED KINGDOM</td>\n",
              "      <td>HANGING METAL HEART LANTERN</td>\n",
              "    </tr>\n",
              "    <tr>\n",
              "      <th>360569</th>\n",
              "      <td>577314</td>\n",
              "      <td>23407</td>\n",
              "      <td>2</td>\n",
              "      <td>2011-11-18 13:23:00</td>\n",
              "      <td>0.0</td>\n",
              "      <td>12444</td>\n",
              "      <td>NORWAY</td>\n",
              "      <td>SET OF 2 TRAYS HOME SWEET HOME</td>\n",
              "    </tr>\n",
              "    <tr>\n",
              "      <th>377084</th>\n",
              "      <td>578841</td>\n",
              "      <td>84826</td>\n",
              "      <td>12540</td>\n",
              "      <td>2011-11-25 15:57:00</td>\n",
              "      <td>0.0</td>\n",
              "      <td>13256</td>\n",
              "      <td>UNITED KINGDOM</td>\n",
              "      <td>ASSTD DESIGN 3D PAPER STICKERS</td>\n",
              "    </tr>\n",
              "  </tbody>\n",
              "</table>\n",
              "</div>"
            ],
            "text/plain": [
              "       InvoiceNo StockCode  ...         Country                          Description\n",
              "6986      537197     22841  ...         GERMANY         ROUND CAKE TIN VINTAGE GREEN\n",
              "22988     539263     22580  ...  UNITED KINGDOM         ADVENT CALENDAR GINGHAM SACK\n",
              "25937     539722     22423  ...            EIRE             REGENCY CAKESTAND 3 TIER\n",
              "29750     540372     22090  ...  UNITED KINGDOM              PAPER BUNTING RETROSPOT\n",
              "29752     540372     22553  ...  UNITED KINGDOM               PLASTERS IN TIN SKULLS\n",
              "35300     541109     22168  ...  UNITED KINGDOM         ORGANISER WOOD ANTIQUE WHITE\n",
              "55025     543599    84535B  ...  UNITED KINGDOM         FAIRY CAKES NOTEBOOK A6 SIZE\n",
              "87481     547417     22062  ...  UNITED KINGDOM  CERAMIC BOWL WITH LOVE HEART DESIGN\n",
              "94745     548318     22055  ...  UNITED KINGDOM   MINI CAKE STAND  HANGING STRAWBERY\n",
              "99450     548871     22162  ...  UNITED KINGDOM          HEART GARLAND RUSTIC PADDED\n",
              "109434    550188     22636  ...     SWITZERLAND   CHILDS BREAKFAST SET CIRCUS PARADE\n",
              "131225    553000     47566  ...  UNITED KINGDOM                        PARTY BUNTING\n",
              "139833    554037     22619  ...       AUSTRALIA            SET OF 6 SOLDIER SKITTLES\n",
              "198514    561284     22167  ...  UNITED KINGDOM            OVAL WALL MIRROR DIAMANTE\n",
              "201078    561669     22960  ...           SPAIN             JAM MAKING SET WITH JARS\n",
              "213080    562973     23157  ...            EIRE            SET OF 6 NATIVITY MAGNETS\n",
              "228238    564651     23270  ...     NETHERLANDS      SET OF 2 CERAMIC PAINTED HEARTS\n",
              "228239    564651     23268  ...     NETHERLANDS  SET OF 2 CERAMIC CHRISTMAS REINDEER\n",
              "228240    564651     22955  ...     NETHERLANDS              36 FOIL STAR CAKE CASES\n",
              "228241    564651     21786  ...     NETHERLANDS                    POLKADOT RAIN HAT\n",
              "279020    569716     22778  ...  UNITED KINGDOM                 GLASS BELL JAR SMALL\n",
              "312968    572893     21208  ...  UNITED KINGDOM          PASTEL COLOUR HONEYCOMB FAN\n",
              "325889    574138     23234  ...       AUSTRALIA        BISCUIT TIN VINTAGE CHRISTMAS\n",
              "326056    574175     22065  ...  UNITED KINGDOM        CHRISTMAS PUDDING TRINKET POT\n",
              "328303    574469     22385  ...       AUSTRALIA            JUMBO BAG SPACEBOY DESIGN\n",
              "334495    574879     22625  ...  UNITED KINGDOM                   RED KITCHEN SCALES\n",
              "335126    574920     22899  ...  UNITED KINGDOM          CHILDREN'S APRON DOLLY GIRL\n",
              "335127    574920     23480  ...  UNITED KINGDOM       MINI LIGHTS WOODLAND MUSHROOMS\n",
              "340483    575579     22437  ...  UNITED KINGDOM        SET OF 9 BLACK SKULL BALLOONS\n",
              "340484    575579     22089  ...  UNITED KINGDOM        PAPER BUNTING VINTAGE PAISLEY\n",
              "359129    577129     22464  ...  UNITED KINGDOM          HANGING METAL HEART LANTERN\n",
              "360569    577314     23407  ...          NORWAY       SET OF 2 TRAYS HOME SWEET HOME\n",
              "377084    578841     84826  ...  UNITED KINGDOM       ASSTD DESIGN 3D PAPER STICKERS\n",
              "\n",
              "[33 rows x 8 columns]"
            ]
          },
          "metadata": {
            "tags": []
          },
          "execution_count": 68
        }
      ]
    },
    {
      "cell_type": "code",
      "metadata": {
        "id": "_3SSCrw1MFNs"
      },
      "source": [
        "df = df[df.UnitPrice > 0].reset_index(drop=True) # Keep only positive prices "
      ],
      "execution_count": null,
      "outputs": []
    },
    {
      "cell_type": "markdown",
      "metadata": {
        "id": "j3UOu7ISP9k2"
      },
      "source": [
        "Each StockCode should have a unique UnitPrice, but the one_to_many function shows that some StockCode values have multiple UnitPrice values. This could be due to discounts and coupons or promotions on specific days. To correct this, we'll set the unit price for each StockCode to its mode UnitPrice. "
      ]
    },
    {
      "cell_type": "code",
      "metadata": {
        "colab": {
          "base_uri": "https://localhost:8080/"
        },
        "id": "A6gRzykbNjDt",
        "outputId": "79a603c6-efd6-4200-af14-c4c7a694e418"
      },
      "source": [
        "one_to_many(df,'StockCode','UnitPrice')"
      ],
      "execution_count": null,
      "outputs": [
        {
          "output_type": "stream",
          "text": [
            "False\n"
          ],
          "name": "stdout"
        }
      ]
    },
    {
      "cell_type": "code",
      "metadata": {
        "colab": {
          "base_uri": "https://localhost:8080/",
          "height": 424
        },
        "id": "kgQZWXL_OjtA",
        "outputId": "48402abf-bd87-49da-9fc8-589c6c163264"
      },
      "source": [
        "prices = df.groupby(['StockCode','UnitPrice'],as_index=False).count()\n",
        "prices = prices.loc[:,['StockCode','UnitPrice']]\n",
        "price_count = prices['StockCode'].value_counts().to_frame()\n",
        "price_list = list(price_count[price_count.StockCode > 1].index) # List indexes that has stockCode with >1 UnitPrice\n",
        "prices[prices['StockCode'].isin(price_list)] # filter products that have stockCode with >1 UnitPrice"
      ],
      "execution_count": null,
      "outputs": [
        {
          "output_type": "execute_result",
          "data": {
            "text/html": [
              "<div>\n",
              "<style scoped>\n",
              "    .dataframe tbody tr th:only-of-type {\n",
              "        vertical-align: middle;\n",
              "    }\n",
              "\n",
              "    .dataframe tbody tr th {\n",
              "        vertical-align: top;\n",
              "    }\n",
              "\n",
              "    .dataframe thead th {\n",
              "        text-align: right;\n",
              "    }\n",
              "</style>\n",
              "<table border=\"1\" class=\"dataframe\">\n",
              "  <thead>\n",
              "    <tr style=\"text-align: right;\">\n",
              "      <th></th>\n",
              "      <th>StockCode</th>\n",
              "      <th>UnitPrice</th>\n",
              "    </tr>\n",
              "  </thead>\n",
              "  <tbody>\n",
              "    <tr>\n",
              "      <th>1</th>\n",
              "      <td>10080</td>\n",
              "      <td>0.39</td>\n",
              "    </tr>\n",
              "    <tr>\n",
              "      <th>2</th>\n",
              "      <td>10080</td>\n",
              "      <td>0.85</td>\n",
              "    </tr>\n",
              "    <tr>\n",
              "      <th>7</th>\n",
              "      <td>10125</td>\n",
              "      <td>0.42</td>\n",
              "    </tr>\n",
              "    <tr>\n",
              "      <th>8</th>\n",
              "      <td>10125</td>\n",
              "      <td>0.85</td>\n",
              "    </tr>\n",
              "    <tr>\n",
              "      <th>9</th>\n",
              "      <td>10133</td>\n",
              "      <td>0.42</td>\n",
              "    </tr>\n",
              "    <tr>\n",
              "      <th>...</th>\n",
              "      <td>...</td>\n",
              "      <td>...</td>\n",
              "    </tr>\n",
              "    <tr>\n",
              "      <th>8461</th>\n",
              "      <td>90214S</td>\n",
              "      <td>1.25</td>\n",
              "    </tr>\n",
              "    <tr>\n",
              "      <th>8464</th>\n",
              "      <td>90214V</td>\n",
              "      <td>0.29</td>\n",
              "    </tr>\n",
              "    <tr>\n",
              "      <th>8465</th>\n",
              "      <td>90214V</td>\n",
              "      <td>1.25</td>\n",
              "    </tr>\n",
              "    <tr>\n",
              "      <th>8467</th>\n",
              "      <td>90214Y</td>\n",
              "      <td>0.29</td>\n",
              "    </tr>\n",
              "    <tr>\n",
              "      <th>8468</th>\n",
              "      <td>90214Y</td>\n",
              "      <td>1.25</td>\n",
              "    </tr>\n",
              "  </tbody>\n",
              "</table>\n",
              "<p>7427 rows × 2 columns</p>\n",
              "</div>"
            ],
            "text/plain": [
              "     StockCode  UnitPrice\n",
              "1        10080       0.39\n",
              "2        10080       0.85\n",
              "7        10125       0.42\n",
              "8        10125       0.85\n",
              "9        10133       0.42\n",
              "...        ...        ...\n",
              "8461    90214S       1.25\n",
              "8464    90214V       0.29\n",
              "8465    90214V       1.25\n",
              "8467    90214Y       0.29\n",
              "8468    90214Y       1.25\n",
              "\n",
              "[7427 rows x 2 columns]"
            ]
          },
          "metadata": {
            "tags": []
          },
          "execution_count": 71
        }
      ]
    },
    {
      "cell_type": "code",
      "metadata": {
        "id": "mlXCDiFSUHOT"
      },
      "source": [
        "stock_list = df.StockCode.unique()\n",
        "price_mode = map(lambda x: df.UnitPrice[df.StockCode == x].mode()[0],stock_list)\n",
        "stock_mode = list(price_mode)\n",
        "for i,v in enumerate(stock_list):\n",
        "    df.loc[df['StockCode']== v, 'UnitPrice'] = stock_mode[i]"
      ],
      "execution_count": null,
      "outputs": []
    },
    {
      "cell_type": "code",
      "metadata": {
        "colab": {
          "base_uri": "https://localhost:8080/"
        },
        "id": "Ej5C6_xnvMFo",
        "outputId": "0318524f-1c56-45c2-d330-0c7c2a7e5da5"
      },
      "source": [
        "one_to_many(df,'StockCode','UnitPrice')"
      ],
      "execution_count": null,
      "outputs": [
        {
          "output_type": "stream",
          "text": [
            "True\n"
          ],
          "name": "stdout"
        }
      ]
    },
    {
      "cell_type": "markdown",
      "metadata": {
        "id": "79ebrf4UZA5F"
      },
      "source": [
        "## Description"
      ]
    },
    {
      "cell_type": "code",
      "metadata": {
        "colab": {
          "base_uri": "https://localhost:8080/"
        },
        "id": "zDS-ggjgUDqX",
        "outputId": "02f47ecd-7686-4f0d-f1de-358da7e23297"
      },
      "source": [
        "print('Number of empty descriptions:',len(df[df.Description.isna()==True])) "
      ],
      "execution_count": null,
      "outputs": [
        {
          "output_type": "stream",
          "text": [
            "Number of empty descriptions: 0\n"
          ],
          "name": "stdout"
        }
      ]
    },
    {
      "cell_type": "markdown",
      "metadata": {
        "id": "Xh6YevyeiIwB"
      },
      "source": [
        "## Country"
      ]
    },
    {
      "cell_type": "markdown",
      "metadata": {
        "id": "hcDIG5jYjW3s"
      },
      "source": [
        "Each CustomerID should be tied to 1 country, but we see below that a handful of CustomerIDs are linked to more than 1 country. It's unclear whether the countries are captured by IP address at purchase or shipping or billing details. Additionally, customers may have moved, purchased while traveling, or shipped to another address from their billing. To treat this, for CustomerIDs with multiple countries, we'll replace countries with the customer's mode country.   "
      ]
    },
    {
      "cell_type": "code",
      "metadata": {
        "colab": {
          "base_uri": "https://localhost:8080/"
        },
        "id": "DJnRfHoRir7x",
        "outputId": "ce40a256-fd37-4ffb-ffbe-f51d1cfdad79"
      },
      "source": [
        "one_to_many(df,'CustomerID','Country')"
      ],
      "execution_count": null,
      "outputs": [
        {
          "output_type": "stream",
          "text": [
            "False\n"
          ],
          "name": "stdout"
        }
      ]
    },
    {
      "cell_type": "code",
      "metadata": {
        "colab": {
          "base_uri": "https://localhost:8080/"
        },
        "id": "LMGIvz-FdG6I",
        "outputId": "64c635bc-0850-4974-a8d0-fb30abf8f7bf"
      },
      "source": [
        "# Customers with >1 country \n",
        "customer_country = df.groupby('CustomerID')['Country'].unique()\n",
        "customer_country.loc[customer_country.apply(lambda x:len(x)>1)]"
      ],
      "execution_count": null,
      "outputs": [
        {
          "output_type": "execute_result",
          "data": {
            "text/plain": [
              "CustomerID\n",
              "12370           [CYPRUS, AUSTRIA]\n",
              "12394          [BELGIUM, DENMARK]\n",
              "12417            [BELGIUM, SPAIN]\n",
              "12422    [AUSTRALIA, SWITZERLAND]\n",
              "12429          [DENMARK, AUSTRIA]\n",
              "12431        [AUSTRALIA, BELGIUM]\n",
              "12455             [CYPRUS, SPAIN]\n",
              "12457       [SWITZERLAND, CYPRUS]\n",
              "Name: Country, dtype: object"
            ]
          },
          "metadata": {
            "tags": []
          },
          "execution_count": 76
        }
      ]
    },
    {
      "cell_type": "code",
      "metadata": {
        "colab": {
          "base_uri": "https://localhost:8080/"
        },
        "id": "paoQHlpdg27Q",
        "outputId": "cdc94d06-d62b-46c6-d18e-3f38682edccb"
      },
      "source": [
        "# For customer's with multiple countries, replace with mode \n",
        "customers = df.groupby('CustomerID')['Country'].unique().items()\n",
        "for i,v in customers:\n",
        "    if len(v)>1:\n",
        "        df.Country[df['CustomerID'] == i] = df.Country[df['CustomerID'] == i].mode()[0]"
      ],
      "execution_count": null,
      "outputs": [
        {
          "output_type": "stream",
          "text": [
            "/usr/local/lib/python3.7/dist-packages/ipykernel_launcher.py:5: SettingWithCopyWarning: \n",
            "A value is trying to be set on a copy of a slice from a DataFrame\n",
            "\n",
            "See the caveats in the documentation: https://pandas.pydata.org/pandas-docs/stable/user_guide/indexing.html#returning-a-view-versus-a-copy\n",
            "  \"\"\"\n"
          ],
          "name": "stderr"
        }
      ]
    },
    {
      "cell_type": "code",
      "metadata": {
        "colab": {
          "base_uri": "https://localhost:8080/"
        },
        "id": "hycjyQAXvwpx",
        "outputId": "00409494-6fbd-44f6-b371-47ba0d752f1b"
      },
      "source": [
        "one_to_many(df,'CustomerID','Country')"
      ],
      "execution_count": null,
      "outputs": [
        {
          "output_type": "stream",
          "text": [
            "True\n"
          ],
          "name": "stdout"
        }
      ]
    },
    {
      "cell_type": "code",
      "metadata": {
        "colab": {
          "base_uri": "https://localhost:8080/"
        },
        "id": "csMeBv9VqcOn",
        "outputId": "174c0c5e-218d-45e7-eeff-2a3ad1cf5c14"
      },
      "source": [
        "df.Country.unique()"
      ],
      "execution_count": null,
      "outputs": [
        {
          "output_type": "execute_result",
          "data": {
            "text/plain": [
              "array(['UNITED KINGDOM', 'FRANCE', 'AUSTRALIA', 'NETHERLANDS', 'GERMANY',\n",
              "       'NORWAY', 'EIRE', 'SWITZERLAND', 'SPAIN', 'POLAND', 'PORTUGAL',\n",
              "       'ITALY', 'BELGIUM', 'LITHUANIA', 'JAPAN', 'ICELAND',\n",
              "       'CHANNEL ISLANDS', 'DENMARK', 'CYPRUS', 'SWEDEN', 'AUSTRIA',\n",
              "       'ISRAEL', 'FINLAND', 'GREECE', 'SINGAPORE', 'LEBANON',\n",
              "       'UNITED ARAB EMIRATES', 'SAUDI ARABIA', 'CZECH REPUBLIC', 'CANADA',\n",
              "       'UNSPECIFIED', 'BRAZIL', 'USA', 'EUROPEAN COMMUNITY', 'BAHRAIN',\n",
              "       'MALTA', 'RSA'], dtype=object)"
            ]
          },
          "metadata": {
            "tags": []
          },
          "execution_count": 79
        }
      ]
    },
    {
      "cell_type": "code",
      "metadata": {
        "id": "1DAV-QYlrQD6"
      },
      "source": [
        "# Filter and format countries \n",
        "df.query('Country not in [\"UNSPECIFIED\", \"EUROPEAN COMMUNITY\"]', inplace=True)\n",
        "df.reset_index(inplace=True, drop=True)\n",
        "df.Country.replace({'EIRE': 'IRELAND', 'RSA': 'SOUTH AFRICA'}, inplace=True)"
      ],
      "execution_count": null,
      "outputs": []
    },
    {
      "cell_type": "code",
      "metadata": {
        "colab": {
          "base_uri": "https://localhost:8080/"
        },
        "id": "nxaK0C-c3lPj",
        "outputId": "dc8d609f-ad5d-4586-f87a-f967e29f36d5"
      },
      "source": [
        "df.Country.value_counts()"
      ],
      "execution_count": null,
      "outputs": [
        {
          "output_type": "execute_result",
          "data": {
            "text/plain": [
              "UNITED KINGDOM          361235\n",
              "GERMANY                   9095\n",
              "FRANCE                    8168\n",
              "IRELAND                   7378\n",
              "SPAIN                     2486\n",
              "NETHERLANDS               2326\n",
              "BELGIUM                   1946\n",
              "SWITZERLAND               1829\n",
              "PORTUGAL                  1436\n",
              "AUSTRALIA                 1323\n",
              "NORWAY                    1059\n",
              "ITALY                      783\n",
              "CHANNEL ISLANDS            753\n",
              "FINLAND                    653\n",
              "CYPRUS                     582\n",
              "SWEDEN                     437\n",
              "DENMARK                    390\n",
              "AUSTRIA                    360\n",
              "JAPAN                      355\n",
              "POLAND                     336\n",
              "USA                        291\n",
              "ISRAEL                     250\n",
              "SINGAPORE                  215\n",
              "ICELAND                    182\n",
              "CANADA                     150\n",
              "GREECE                     142\n",
              "MALTA                      123\n",
              "UNITED ARAB EMIRATES        67\n",
              "SOUTH AFRICA                57\n",
              "LEBANON                     45\n",
              "LITHUANIA                   35\n",
              "BRAZIL                      32\n",
              "CZECH REPUBLIC              28\n",
              "BAHRAIN                     17\n",
              "SAUDI ARABIA                10\n",
              "Name: Country, dtype: int64"
            ]
          },
          "metadata": {
            "tags": []
          },
          "execution_count": 81
        }
      ]
    },
    {
      "cell_type": "markdown",
      "metadata": {
        "id": "sAUVEIdsl-SU"
      },
      "source": [
        "## 4. Add Features"
      ]
    },
    {
      "cell_type": "code",
      "metadata": {
        "id": "fAg_ewcz7dTR"
      },
      "source": [
        "# Create separate dataframe for canceled orders in case we want to investigate them later \n",
        "canceled_orders = df[df.InvoiceNo.str[0] == 'C']\n",
        "canceled_orders.reset_index(inplace=True, drop=True)\n",
        "\n",
        "df = df[df.InvoiceNo.str[0] != 'C']\n",
        "df.reset_index(inplace=True, drop=True)"
      ],
      "execution_count": null,
      "outputs": []
    },
    {
      "cell_type": "code",
      "metadata": {
        "colab": {
          "base_uri": "https://localhost:8080/",
          "height": 504
        },
        "id": "lSNpr8ZnoDnO",
        "outputId": "af1d876d-046c-4247-d5fe-53af29948ce9"
      },
      "source": [
        "df = df.assign(TotalPrice = df.Quantity * df.UnitPrice,\n",
        "               Year = lambda x: x.InvoiceDate.dt.year,\n",
        "               Month = lambda x: x.InvoiceDate.dt.month,\n",
        "               Day = lambda x: x.InvoiceDate.dt.day,\n",
        "               DayName = lambda x: x.InvoiceDate.dt.day_name(), \n",
        "               Hour = lambda x: x.InvoiceDate.dt.hour)\n",
        "\n",
        "# Holiday variable\n",
        "start = df.InvoiceDate.min() \n",
        "start_year = df.Year.min() \n",
        "end = df.InvoiceDate.max() \n",
        "end_year = df.Year.max() \n",
        "\n",
        "holidays = set(holiday[0] \n",
        "               for year in range(start_year, end_year + 1)\n",
        "               for holiday in cal.holidays(year)\n",
        "               if start.date() <= holiday[0] <= end.date())\n",
        "\n",
        "df = df.assign(Holiday = df.InvoiceDate.dt.date.isin(holidays).astype(int))\n",
        "df.head()"
      ],
      "execution_count": null,
      "outputs": [
        {
          "output_type": "execute_result",
          "data": {
            "text/html": [
              "<div>\n",
              "<style scoped>\n",
              "    .dataframe tbody tr th:only-of-type {\n",
              "        vertical-align: middle;\n",
              "    }\n",
              "\n",
              "    .dataframe tbody tr th {\n",
              "        vertical-align: top;\n",
              "    }\n",
              "\n",
              "    .dataframe thead th {\n",
              "        text-align: right;\n",
              "    }\n",
              "</style>\n",
              "<table border=\"1\" class=\"dataframe\">\n",
              "  <thead>\n",
              "    <tr style=\"text-align: right;\">\n",
              "      <th></th>\n",
              "      <th>InvoiceNo</th>\n",
              "      <th>StockCode</th>\n",
              "      <th>Quantity</th>\n",
              "      <th>InvoiceDate</th>\n",
              "      <th>UnitPrice</th>\n",
              "      <th>CustomerID</th>\n",
              "      <th>Country</th>\n",
              "      <th>Description</th>\n",
              "      <th>TotalPrice</th>\n",
              "      <th>Year</th>\n",
              "      <th>Month</th>\n",
              "      <th>Day</th>\n",
              "      <th>DayName</th>\n",
              "      <th>Hour</th>\n",
              "      <th>Holiday</th>\n",
              "    </tr>\n",
              "  </thead>\n",
              "  <tbody>\n",
              "    <tr>\n",
              "      <th>0</th>\n",
              "      <td>536365</td>\n",
              "      <td>85123A</td>\n",
              "      <td>6</td>\n",
              "      <td>2010-12-01 08:26:00</td>\n",
              "      <td>2.95</td>\n",
              "      <td>17850</td>\n",
              "      <td>UNITED KINGDOM</td>\n",
              "      <td>CREAM HANGING HEART T-LIGHT HOLDER</td>\n",
              "      <td>17.7</td>\n",
              "      <td>2010</td>\n",
              "      <td>12</td>\n",
              "      <td>1</td>\n",
              "      <td>Wednesday</td>\n",
              "      <td>8</td>\n",
              "      <td>0</td>\n",
              "    </tr>\n",
              "    <tr>\n",
              "      <th>1</th>\n",
              "      <td>536365</td>\n",
              "      <td>71053</td>\n",
              "      <td>6</td>\n",
              "      <td>2010-12-01 08:26:00</td>\n",
              "      <td>3.75</td>\n",
              "      <td>17850</td>\n",
              "      <td>UNITED KINGDOM</td>\n",
              "      <td>WHITE METAL LANTERN</td>\n",
              "      <td>22.5</td>\n",
              "      <td>2010</td>\n",
              "      <td>12</td>\n",
              "      <td>1</td>\n",
              "      <td>Wednesday</td>\n",
              "      <td>8</td>\n",
              "      <td>0</td>\n",
              "    </tr>\n",
              "    <tr>\n",
              "      <th>2</th>\n",
              "      <td>536365</td>\n",
              "      <td>84406B</td>\n",
              "      <td>8</td>\n",
              "      <td>2010-12-01 08:26:00</td>\n",
              "      <td>4.15</td>\n",
              "      <td>17850</td>\n",
              "      <td>UNITED KINGDOM</td>\n",
              "      <td>CREAM CUPID HEARTS COAT HANGER</td>\n",
              "      <td>33.2</td>\n",
              "      <td>2010</td>\n",
              "      <td>12</td>\n",
              "      <td>1</td>\n",
              "      <td>Wednesday</td>\n",
              "      <td>8</td>\n",
              "      <td>0</td>\n",
              "    </tr>\n",
              "    <tr>\n",
              "      <th>3</th>\n",
              "      <td>536365</td>\n",
              "      <td>84029G</td>\n",
              "      <td>6</td>\n",
              "      <td>2010-12-01 08:26:00</td>\n",
              "      <td>4.25</td>\n",
              "      <td>17850</td>\n",
              "      <td>UNITED KINGDOM</td>\n",
              "      <td>KNITTED UNION FLAG HOT WATER BOTTLE</td>\n",
              "      <td>25.5</td>\n",
              "      <td>2010</td>\n",
              "      <td>12</td>\n",
              "      <td>1</td>\n",
              "      <td>Wednesday</td>\n",
              "      <td>8</td>\n",
              "      <td>0</td>\n",
              "    </tr>\n",
              "    <tr>\n",
              "      <th>4</th>\n",
              "      <td>536365</td>\n",
              "      <td>84029E</td>\n",
              "      <td>6</td>\n",
              "      <td>2010-12-01 08:26:00</td>\n",
              "      <td>4.25</td>\n",
              "      <td>17850</td>\n",
              "      <td>UNITED KINGDOM</td>\n",
              "      <td>RED WOOLLY HOTTIE WHITE HEART</td>\n",
              "      <td>25.5</td>\n",
              "      <td>2010</td>\n",
              "      <td>12</td>\n",
              "      <td>1</td>\n",
              "      <td>Wednesday</td>\n",
              "      <td>8</td>\n",
              "      <td>0</td>\n",
              "    </tr>\n",
              "  </tbody>\n",
              "</table>\n",
              "</div>"
            ],
            "text/plain": [
              "  InvoiceNo StockCode  Quantity  ...    DayName  Hour Holiday\n",
              "0    536365    85123A         6  ...  Wednesday     8       0\n",
              "1    536365     71053         6  ...  Wednesday     8       0\n",
              "2    536365    84406B         8  ...  Wednesday     8       0\n",
              "3    536365    84029G         6  ...  Wednesday     8       0\n",
              "4    536365    84029E         6  ...  Wednesday     8       0\n",
              "\n",
              "[5 rows x 15 columns]"
            ]
          },
          "metadata": {
            "tags": []
          },
          "execution_count": 87
        }
      ]
    },
    {
      "cell_type": "code",
      "metadata": {
        "colab": {
          "base_uri": "https://localhost:8080/"
        },
        "id": "k_hnBXpXTBXf",
        "outputId": "67f484f1-74f2-4d67-992b-b7e56f1ae83f"
      },
      "source": [
        "# Check UK holidays in 2011\n",
        "cal.holidays(2011)"
      ],
      "execution_count": null,
      "outputs": [
        {
          "output_type": "execute_result",
          "data": {
            "text/plain": [
              "[(datetime.date(2011, 1, 1), 'New year'),\n",
              " (datetime.date(2011, 1, 3), 'New Year shift'),\n",
              " (datetime.date(2011, 4, 22), 'Good Friday'),\n",
              " (datetime.date(2011, 4, 24), 'Easter Sunday'),\n",
              " (datetime.date(2011, 4, 25), 'Easter Monday'),\n",
              " (datetime.date(2011, 4, 29), 'Royal Wedding'),\n",
              " (datetime.date(2011, 5, 2), 'Early May Bank Holiday'),\n",
              " (datetime.date(2011, 5, 30), 'Spring Bank Holiday'),\n",
              " (datetime.date(2011, 8, 29), 'Late Summer Bank Holiday'),\n",
              " (datetime.date(2011, 12, 25), 'Christmas Day'),\n",
              " (datetime.date(2011, 12, 26), 'Boxing Day'),\n",
              " (datetime.date(2011, 12, 26), 'Christmas Shift'),\n",
              " (datetime.date(2011, 12, 27), 'Boxing Day Shift')]"
            ]
          },
          "metadata": {
            "tags": []
          },
          "execution_count": 88
        }
      ]
    },
    {
      "cell_type": "markdown",
      "metadata": {
        "id": "4lynaxRAq6kb"
      },
      "source": [
        "## 5. Save"
      ]
    },
    {
      "cell_type": "code",
      "metadata": {
        "colab": {
          "base_uri": "https://localhost:8080/"
        },
        "id": "x5Ptbp6K8ES4",
        "outputId": "d200ec77-0d55-4980-b195-ef1249d30d02"
      },
      "source": [
        "# Mount google drive\n",
        "from google.colab import drive \n",
        "drive.mount('/content/drive')"
      ],
      "execution_count": null,
      "outputs": [
        {
          "output_type": "stream",
          "text": [
            "Drive already mounted at /content/drive; to attempt to forcibly remount, call drive.mount(\"/content/drive\", force_remount=True).\n"
          ],
          "name": "stdout"
        }
      ]
    },
    {
      "cell_type": "code",
      "metadata": {
        "colab": {
          "base_uri": "https://localhost:8080/"
        },
        "id": "NJFpd3n_w2Rd",
        "outputId": "23ce69aa-44ae-4142-8e6b-075150c81a28"
      },
      "source": [
        "df.info()"
      ],
      "execution_count": null,
      "outputs": [
        {
          "output_type": "stream",
          "text": [
            "<class 'pandas.core.frame.DataFrame'>\n",
            "RangeIndex: 396036 entries, 0 to 396035\n",
            "Data columns (total 15 columns):\n",
            " #   Column       Non-Null Count   Dtype         \n",
            "---  ------       --------------   -----         \n",
            " 0   InvoiceNo    396036 non-null  object        \n",
            " 1   StockCode    396036 non-null  object        \n",
            " 2   Quantity     396036 non-null  int64         \n",
            " 3   InvoiceDate  396036 non-null  datetime64[ns]\n",
            " 4   UnitPrice    396036 non-null  float64       \n",
            " 5   CustomerID   396036 non-null  object        \n",
            " 6   Country      396036 non-null  object        \n",
            " 7   Description  396036 non-null  object        \n",
            " 8   TotalPrice   396036 non-null  float64       \n",
            " 9   Year         396036 non-null  int64         \n",
            " 10  Month        396036 non-null  int64         \n",
            " 11  Day          396036 non-null  int64         \n",
            " 12  DayName      396036 non-null  object        \n",
            " 13  Hour         396036 non-null  int64         \n",
            " 14  Holiday      396036 non-null  int64         \n",
            "dtypes: datetime64[ns](1), float64(2), int64(6), object(6)\n",
            "memory usage: 45.3+ MB\n"
          ],
          "name": "stdout"
        }
      ]
    },
    {
      "cell_type": "code",
      "metadata": {
        "id": "sjJBGT4kCD3p"
      },
      "source": [
        "# Save processed data to csv (df is too large so I zipped it)\n",
        "df.to_csv('online_retail_processed.csv.gz', compression='gzip', date_format = '%Y-%m-%d %H:%M', index=False)"
      ],
      "execution_count": 94,
      "outputs": []
    },
    {
      "cell_type": "code",
      "metadata": {
        "id": "y8OBg6QUCmAQ"
      },
      "source": [
        "# Save canceled orders csv\n",
        "canceled_orders.to_csv('canceled_orders.csv', date_format = '%Y-%m-%d %H:%M', index=False)"
      ],
      "execution_count": null,
      "outputs": []
    },
    {
      "cell_type": "markdown",
      "metadata": {
        "id": "PH8A9pXipor1"
      },
      "source": [
        "## 6. References"
      ]
    },
    {
      "cell_type": "markdown",
      "metadata": {
        "id": "o5VhnQbI7QjP"
      },
      "source": [
        "\n",
        "https://stackoverflow.com/questions/57403835/pandas-using-workalendar-to-check-if-a-date-is-a-holiday-and-assigning-boolean\n",
        "\n",
        "https://github.com/koshika15/Predict-sales-of-an-online-retail-store/blob/master/A.%20Data%20Aquisition%20%26%20Wrangling.ipynb\n",
        "\n",
        "https://github.com/koshika15/Predict-sales-of-an-online-retail-store/blob/master/Capstone%20Project%202_%20Final%20Report.pdf\n",
        "\n",
        "https://github.com/amir-hojjati/Data-Analysis-Online-Retail-Transactions/blob/master/Data-Preprocessing/Preprocessing-and-Cleaning.ipynb\n"
      ]
    }
  ]
}